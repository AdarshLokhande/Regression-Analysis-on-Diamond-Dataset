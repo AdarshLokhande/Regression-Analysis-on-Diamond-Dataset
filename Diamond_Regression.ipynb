{
 "cells": [
  {
   "cell_type": "markdown",
   "id": "a3633f26-52b0-4358-87c4-05fb3ad101b5",
   "metadata": {
    "id": "a3633f26-52b0-4358-87c4-05fb3ad101b5"
   },
   "source": [
    "# Problem Statement"
   ]
  },
  {
   "cell_type": "markdown",
   "id": "a87e3368-1ce7-43c8-866c-85fab0c86182",
   "metadata": {},
   "source": [
    "The purpose of this project is to predict price of diamond based on certain parameters and to investigate which parameters are most important to achieve the best results from the data."
   ]
  },
  {
   "cell_type": "code",
   "execution_count": 1,
   "id": "420dc696-8052-4a02-860d-755294bc883b",
   "metadata": {
    "id": "420dc696-8052-4a02-860d-755294bc883b"
   },
   "outputs": [],
   "source": [
    "import pandas as pd\n",
    "import numpy as np\n",
    "import matplotlib.pyplot as plt\n",
    "import seaborn as sns"
   ]
  },
  {
   "cell_type": "code",
   "execution_count": 2,
   "id": "4cf8ae87-e3b3-4020-b73a-efd86368ecad",
   "metadata": {
    "id": "4cf8ae87-e3b3-4020-b73a-efd86368ecad"
   },
   "outputs": [],
   "source": [
    "# Suppress Warnings for clean notebook\n",
    "import warnings\n",
    "warnings.filterwarnings('ignore')"
   ]
  },
  {
   "cell_type": "code",
   "execution_count": 3,
   "id": "29706fcf-f54c-4049-89eb-f6af7c898b28",
   "metadata": {
    "id": "29706fcf-f54c-4049-89eb-f6af7c898b28"
   },
   "outputs": [],
   "source": [
    "dd= pd.read_csv('diamonds.csv')"
   ]
  },
  {
   "cell_type": "code",
   "execution_count": 4,
   "id": "7f1e5bfa-85b3-40a5-a90b-c24583e0f20f",
   "metadata": {
    "colab": {
     "base_uri": "https://localhost:8080/",
     "height": 206
    },
    "id": "7f1e5bfa-85b3-40a5-a90b-c24583e0f20f",
    "outputId": "e97529a0-c403-49a3-d074-af7dc9d9fe1a"
   },
   "outputs": [
    {
     "data": {
      "text/html": [
       "<div>\n",
       "<style scoped>\n",
       "    .dataframe tbody tr th:only-of-type {\n",
       "        vertical-align: middle;\n",
       "    }\n",
       "\n",
       "    .dataframe tbody tr th {\n",
       "        vertical-align: top;\n",
       "    }\n",
       "\n",
       "    .dataframe thead th {\n",
       "        text-align: right;\n",
       "    }\n",
       "</style>\n",
       "<table border=\"1\" class=\"dataframe\">\n",
       "  <thead>\n",
       "    <tr style=\"text-align: right;\">\n",
       "      <th></th>\n",
       "      <th>id</th>\n",
       "      <th>carat</th>\n",
       "      <th>cut</th>\n",
       "      <th>color</th>\n",
       "      <th>clarity</th>\n",
       "      <th>depth</th>\n",
       "      <th>table</th>\n",
       "      <th>price</th>\n",
       "      <th>x</th>\n",
       "      <th>y</th>\n",
       "      <th>z</th>\n",
       "    </tr>\n",
       "  </thead>\n",
       "  <tbody>\n",
       "    <tr>\n",
       "      <th>0</th>\n",
       "      <td>1</td>\n",
       "      <td>0.23</td>\n",
       "      <td>Ideal</td>\n",
       "      <td>E</td>\n",
       "      <td>SI2</td>\n",
       "      <td>61.5</td>\n",
       "      <td>55.0</td>\n",
       "      <td>326</td>\n",
       "      <td>3.95</td>\n",
       "      <td>3.98</td>\n",
       "      <td>2.43</td>\n",
       "    </tr>\n",
       "    <tr>\n",
       "      <th>1</th>\n",
       "      <td>2</td>\n",
       "      <td>0.21</td>\n",
       "      <td>Premium</td>\n",
       "      <td>E</td>\n",
       "      <td>SI1</td>\n",
       "      <td>59.8</td>\n",
       "      <td>61.0</td>\n",
       "      <td>326</td>\n",
       "      <td>3.89</td>\n",
       "      <td>3.84</td>\n",
       "      <td>2.31</td>\n",
       "    </tr>\n",
       "    <tr>\n",
       "      <th>2</th>\n",
       "      <td>3</td>\n",
       "      <td>0.23</td>\n",
       "      <td>Good</td>\n",
       "      <td>E</td>\n",
       "      <td>VS1</td>\n",
       "      <td>56.9</td>\n",
       "      <td>65.0</td>\n",
       "      <td>327</td>\n",
       "      <td>4.05</td>\n",
       "      <td>4.07</td>\n",
       "      <td>2.31</td>\n",
       "    </tr>\n",
       "    <tr>\n",
       "      <th>3</th>\n",
       "      <td>4</td>\n",
       "      <td>0.29</td>\n",
       "      <td>Premium</td>\n",
       "      <td>I</td>\n",
       "      <td>VS2</td>\n",
       "      <td>62.4</td>\n",
       "      <td>58.0</td>\n",
       "      <td>334</td>\n",
       "      <td>4.20</td>\n",
       "      <td>4.23</td>\n",
       "      <td>2.63</td>\n",
       "    </tr>\n",
       "    <tr>\n",
       "      <th>4</th>\n",
       "      <td>5</td>\n",
       "      <td>0.31</td>\n",
       "      <td>Good</td>\n",
       "      <td>J</td>\n",
       "      <td>SI2</td>\n",
       "      <td>63.3</td>\n",
       "      <td>58.0</td>\n",
       "      <td>335</td>\n",
       "      <td>4.34</td>\n",
       "      <td>4.35</td>\n",
       "      <td>2.75</td>\n",
       "    </tr>\n",
       "  </tbody>\n",
       "</table>\n",
       "</div>"
      ],
      "text/plain": [
       "   id  carat      cut color clarity  depth  table  price     x     y     z\n",
       "0   1   0.23    Ideal     E     SI2   61.5   55.0    326  3.95  3.98  2.43\n",
       "1   2   0.21  Premium     E     SI1   59.8   61.0    326  3.89  3.84  2.31\n",
       "2   3   0.23     Good     E     VS1   56.9   65.0    327  4.05  4.07  2.31\n",
       "3   4   0.29  Premium     I     VS2   62.4   58.0    334  4.20  4.23  2.63\n",
       "4   5   0.31     Good     J     SI2   63.3   58.0    335  4.34  4.35  2.75"
      ]
     },
     "execution_count": 4,
     "metadata": {},
     "output_type": "execute_result"
    }
   ],
   "source": [
    "dd.head()"
   ]
  },
  {
   "cell_type": "code",
   "execution_count": 5,
   "id": "73dd2a8b-bccb-4896-bb5a-7b74800f609a",
   "metadata": {
    "colab": {
     "base_uri": "https://localhost:8080/",
     "height": 206
    },
    "id": "73dd2a8b-bccb-4896-bb5a-7b74800f609a",
    "outputId": "417cd9aa-d5f4-4a15-d556-12434ac0ef48"
   },
   "outputs": [
    {
     "data": {
      "text/html": [
       "<div>\n",
       "<style scoped>\n",
       "    .dataframe tbody tr th:only-of-type {\n",
       "        vertical-align: middle;\n",
       "    }\n",
       "\n",
       "    .dataframe tbody tr th {\n",
       "        vertical-align: top;\n",
       "    }\n",
       "\n",
       "    .dataframe thead th {\n",
       "        text-align: right;\n",
       "    }\n",
       "</style>\n",
       "<table border=\"1\" class=\"dataframe\">\n",
       "  <thead>\n",
       "    <tr style=\"text-align: right;\">\n",
       "      <th></th>\n",
       "      <th>id</th>\n",
       "      <th>carat</th>\n",
       "      <th>cut</th>\n",
       "      <th>color</th>\n",
       "      <th>clarity</th>\n",
       "      <th>depth</th>\n",
       "      <th>table</th>\n",
       "      <th>price</th>\n",
       "      <th>x</th>\n",
       "      <th>y</th>\n",
       "      <th>z</th>\n",
       "    </tr>\n",
       "  </thead>\n",
       "  <tbody>\n",
       "    <tr>\n",
       "      <th>53935</th>\n",
       "      <td>53936</td>\n",
       "      <td>0.72</td>\n",
       "      <td>Ideal</td>\n",
       "      <td>D</td>\n",
       "      <td>SI1</td>\n",
       "      <td>60.8</td>\n",
       "      <td>57.0</td>\n",
       "      <td>2757</td>\n",
       "      <td>5.75</td>\n",
       "      <td>5.76</td>\n",
       "      <td>3.50</td>\n",
       "    </tr>\n",
       "    <tr>\n",
       "      <th>53936</th>\n",
       "      <td>53937</td>\n",
       "      <td>0.72</td>\n",
       "      <td>Good</td>\n",
       "      <td>D</td>\n",
       "      <td>SI1</td>\n",
       "      <td>63.1</td>\n",
       "      <td>55.0</td>\n",
       "      <td>2757</td>\n",
       "      <td>5.69</td>\n",
       "      <td>5.75</td>\n",
       "      <td>3.61</td>\n",
       "    </tr>\n",
       "    <tr>\n",
       "      <th>53937</th>\n",
       "      <td>53938</td>\n",
       "      <td>0.70</td>\n",
       "      <td>Very Good</td>\n",
       "      <td>D</td>\n",
       "      <td>SI1</td>\n",
       "      <td>62.8</td>\n",
       "      <td>60.0</td>\n",
       "      <td>2757</td>\n",
       "      <td>5.66</td>\n",
       "      <td>5.68</td>\n",
       "      <td>3.56</td>\n",
       "    </tr>\n",
       "    <tr>\n",
       "      <th>53938</th>\n",
       "      <td>53939</td>\n",
       "      <td>0.86</td>\n",
       "      <td>Premium</td>\n",
       "      <td>H</td>\n",
       "      <td>SI2</td>\n",
       "      <td>61.0</td>\n",
       "      <td>58.0</td>\n",
       "      <td>2757</td>\n",
       "      <td>6.15</td>\n",
       "      <td>6.12</td>\n",
       "      <td>3.74</td>\n",
       "    </tr>\n",
       "    <tr>\n",
       "      <th>53939</th>\n",
       "      <td>53940</td>\n",
       "      <td>0.75</td>\n",
       "      <td>Ideal</td>\n",
       "      <td>D</td>\n",
       "      <td>SI2</td>\n",
       "      <td>62.2</td>\n",
       "      <td>55.0</td>\n",
       "      <td>2757</td>\n",
       "      <td>5.83</td>\n",
       "      <td>5.87</td>\n",
       "      <td>3.64</td>\n",
       "    </tr>\n",
       "  </tbody>\n",
       "</table>\n",
       "</div>"
      ],
      "text/plain": [
       "          id  carat        cut color clarity  depth  table  price     x     y  \\\n",
       "53935  53936   0.72      Ideal     D     SI1   60.8   57.0   2757  5.75  5.76   \n",
       "53936  53937   0.72       Good     D     SI1   63.1   55.0   2757  5.69  5.75   \n",
       "53937  53938   0.70  Very Good     D     SI1   62.8   60.0   2757  5.66  5.68   \n",
       "53938  53939   0.86    Premium     H     SI2   61.0   58.0   2757  6.15  6.12   \n",
       "53939  53940   0.75      Ideal     D     SI2   62.2   55.0   2757  5.83  5.87   \n",
       "\n",
       "          z  \n",
       "53935  3.50  \n",
       "53936  3.61  \n",
       "53937  3.56  \n",
       "53938  3.74  \n",
       "53939  3.64  "
      ]
     },
     "execution_count": 5,
     "metadata": {},
     "output_type": "execute_result"
    }
   ],
   "source": [
    "dd.tail()"
   ]
  },
  {
   "cell_type": "code",
   "execution_count": 6,
   "id": "a3753612-e858-4135-9318-dd7d4de0d5b9",
   "metadata": {
    "colab": {
     "base_uri": "https://localhost:8080/"
    },
    "id": "a3753612-e858-4135-9318-dd7d4de0d5b9",
    "outputId": "f9ce52b6-2e0e-496e-ff7b-87fb37c8f83f"
   },
   "outputs": [
    {
     "data": {
      "text/plain": [
       "593340"
      ]
     },
     "execution_count": 6,
     "metadata": {},
     "output_type": "execute_result"
    }
   ],
   "source": [
    "dd.size"
   ]
  },
  {
   "cell_type": "code",
   "execution_count": 7,
   "id": "fc8d299b-a09f-4265-b267-fd2188ac8618",
   "metadata": {
    "colab": {
     "base_uri": "https://localhost:8080/"
    },
    "id": "fc8d299b-a09f-4265-b267-fd2188ac8618",
    "outputId": "2ee6f7d5-063c-4777-cb91-b4387ef96da6"
   },
   "outputs": [
    {
     "data": {
      "text/plain": [
       "(53940, 11)"
      ]
     },
     "execution_count": 7,
     "metadata": {},
     "output_type": "execute_result"
    }
   ],
   "source": [
    "dd.shape"
   ]
  },
  {
   "cell_type": "code",
   "execution_count": 8,
   "id": "5d0ed114-5fec-4132-ac11-0c2963e38746",
   "metadata": {
    "colab": {
     "base_uri": "https://localhost:8080/"
    },
    "id": "5d0ed114-5fec-4132-ac11-0c2963e38746",
    "outputId": "f09a1cfc-2e62-46b2-9078-1bd505a63313"
   },
   "outputs": [
    {
     "name": "stdout",
     "output_type": "stream",
     "text": [
      "<class 'pandas.core.frame.DataFrame'>\n",
      "RangeIndex: 53940 entries, 0 to 53939\n",
      "Data columns (total 11 columns):\n",
      " #   Column   Non-Null Count  Dtype  \n",
      "---  ------   --------------  -----  \n",
      " 0   id       53940 non-null  int64  \n",
      " 1   carat    53940 non-null  float64\n",
      " 2   cut      53940 non-null  object \n",
      " 3   color    53940 non-null  object \n",
      " 4   clarity  53940 non-null  object \n",
      " 5   depth    53940 non-null  float64\n",
      " 6   table    53940 non-null  float64\n",
      " 7   price    53940 non-null  int64  \n",
      " 8   x        53940 non-null  float64\n",
      " 9   y        53940 non-null  float64\n",
      " 10  z        53940 non-null  float64\n",
      "dtypes: float64(6), int64(2), object(3)\n",
      "memory usage: 4.5+ MB\n"
     ]
    }
   ],
   "source": [
    "dd.info()"
   ]
  },
  {
   "cell_type": "markdown",
   "id": "a6ef7436-1b65-430b-9b6b-c1874f569c24",
   "metadata": {
    "id": "a6ef7436-1b65-430b-9b6b-c1874f569c24"
   },
   "source": [
    "### Feature description:\n",
    "\n",
    "* price price in US dollars ($326--$18,823)This is the target column containing tags for the features. \n",
    "\n",
    "#### The 4 Cs of Diamonds:-\n",
    "\n",
    "* carat (0.2--5.01) The carat is the diamond’s physical weight measured in metric carats.  One carat equals 1/5 gram and is subdivided into 100 points. Carat weight is the most objective grade of the 4Cs. \n",
    "\n",
    "* cut (Fair, Good, Very Good, Premium, Ideal) In determining the quality of the cut, the diamond grader evaluates the cutter’s skill in the fashioning of the diamond. The more precise the diamond is cut, the more captivating the diamond is to the eye.  \n",
    "\n",
    "* color, from J (worst) to D (best) The colour of gem-quality diamonds occurs in many hues. In the range from colourless to light yellow or light brown. Colourless diamonds are the rarest. Other natural colours (blue, red, pink for example) are known as \"fancy,” and their colour grading is different than from white colorless diamonds.  \n",
    "\n",
    "* clarity (I1 (worst), SI2, SI1, VS2, VS1, VVS2, VVS1, IF (best)) Diamonds can have internal characteristics known as inclusions or external characteristics known as blemishes. Diamonds without inclusions or blemishes are rare; however, most characteristics can only be seen with magnification.  \n",
    "\n",
    "* Dimensions"
   ]
  },
  {
   "cell_type": "code",
   "execution_count": 9,
   "id": "80904cbd-42d0-48a6-add1-ff85ebcd48e4",
   "metadata": {
    "colab": {
     "base_uri": "https://localhost:8080/",
     "height": 300
    },
    "id": "80904cbd-42d0-48a6-add1-ff85ebcd48e4",
    "outputId": "7b2227d3-ec41-46d2-b554-a1264ffd24a6"
   },
   "outputs": [
    {
     "data": {
      "text/html": [
       "<div>\n",
       "<style scoped>\n",
       "    .dataframe tbody tr th:only-of-type {\n",
       "        vertical-align: middle;\n",
       "    }\n",
       "\n",
       "    .dataframe tbody tr th {\n",
       "        vertical-align: top;\n",
       "    }\n",
       "\n",
       "    .dataframe thead th {\n",
       "        text-align: right;\n",
       "    }\n",
       "</style>\n",
       "<table border=\"1\" class=\"dataframe\">\n",
       "  <thead>\n",
       "    <tr style=\"text-align: right;\">\n",
       "      <th></th>\n",
       "      <th>id</th>\n",
       "      <th>carat</th>\n",
       "      <th>depth</th>\n",
       "      <th>table</th>\n",
       "      <th>price</th>\n",
       "      <th>x</th>\n",
       "      <th>y</th>\n",
       "      <th>z</th>\n",
       "    </tr>\n",
       "  </thead>\n",
       "  <tbody>\n",
       "    <tr>\n",
       "      <th>count</th>\n",
       "      <td>53940.000000</td>\n",
       "      <td>53940.000000</td>\n",
       "      <td>53940.000000</td>\n",
       "      <td>53940.000000</td>\n",
       "      <td>53940.000000</td>\n",
       "      <td>53940.000000</td>\n",
       "      <td>53940.000000</td>\n",
       "      <td>53940.000000</td>\n",
       "    </tr>\n",
       "    <tr>\n",
       "      <th>mean</th>\n",
       "      <td>26970.500000</td>\n",
       "      <td>0.797940</td>\n",
       "      <td>61.749405</td>\n",
       "      <td>57.457184</td>\n",
       "      <td>3932.799722</td>\n",
       "      <td>5.731157</td>\n",
       "      <td>5.734526</td>\n",
       "      <td>3.538734</td>\n",
       "    </tr>\n",
       "    <tr>\n",
       "      <th>std</th>\n",
       "      <td>15571.281097</td>\n",
       "      <td>0.474011</td>\n",
       "      <td>1.432621</td>\n",
       "      <td>2.234491</td>\n",
       "      <td>3989.439738</td>\n",
       "      <td>1.121761</td>\n",
       "      <td>1.142135</td>\n",
       "      <td>0.705699</td>\n",
       "    </tr>\n",
       "    <tr>\n",
       "      <th>min</th>\n",
       "      <td>1.000000</td>\n",
       "      <td>0.200000</td>\n",
       "      <td>43.000000</td>\n",
       "      <td>43.000000</td>\n",
       "      <td>326.000000</td>\n",
       "      <td>0.000000</td>\n",
       "      <td>0.000000</td>\n",
       "      <td>0.000000</td>\n",
       "    </tr>\n",
       "    <tr>\n",
       "      <th>25%</th>\n",
       "      <td>13485.750000</td>\n",
       "      <td>0.400000</td>\n",
       "      <td>61.000000</td>\n",
       "      <td>56.000000</td>\n",
       "      <td>950.000000</td>\n",
       "      <td>4.710000</td>\n",
       "      <td>4.720000</td>\n",
       "      <td>2.910000</td>\n",
       "    </tr>\n",
       "    <tr>\n",
       "      <th>50%</th>\n",
       "      <td>26970.500000</td>\n",
       "      <td>0.700000</td>\n",
       "      <td>61.800000</td>\n",
       "      <td>57.000000</td>\n",
       "      <td>2401.000000</td>\n",
       "      <td>5.700000</td>\n",
       "      <td>5.710000</td>\n",
       "      <td>3.530000</td>\n",
       "    </tr>\n",
       "    <tr>\n",
       "      <th>75%</th>\n",
       "      <td>40455.250000</td>\n",
       "      <td>1.040000</td>\n",
       "      <td>62.500000</td>\n",
       "      <td>59.000000</td>\n",
       "      <td>5324.250000</td>\n",
       "      <td>6.540000</td>\n",
       "      <td>6.540000</td>\n",
       "      <td>4.040000</td>\n",
       "    </tr>\n",
       "    <tr>\n",
       "      <th>max</th>\n",
       "      <td>53940.000000</td>\n",
       "      <td>5.010000</td>\n",
       "      <td>79.000000</td>\n",
       "      <td>95.000000</td>\n",
       "      <td>18823.000000</td>\n",
       "      <td>10.740000</td>\n",
       "      <td>58.900000</td>\n",
       "      <td>31.800000</td>\n",
       "    </tr>\n",
       "  </tbody>\n",
       "</table>\n",
       "</div>"
      ],
      "text/plain": [
       "                 id         carat         depth         table         price  \\\n",
       "count  53940.000000  53940.000000  53940.000000  53940.000000  53940.000000   \n",
       "mean   26970.500000      0.797940     61.749405     57.457184   3932.799722   \n",
       "std    15571.281097      0.474011      1.432621      2.234491   3989.439738   \n",
       "min        1.000000      0.200000     43.000000     43.000000    326.000000   \n",
       "25%    13485.750000      0.400000     61.000000     56.000000    950.000000   \n",
       "50%    26970.500000      0.700000     61.800000     57.000000   2401.000000   \n",
       "75%    40455.250000      1.040000     62.500000     59.000000   5324.250000   \n",
       "max    53940.000000      5.010000     79.000000     95.000000  18823.000000   \n",
       "\n",
       "                  x             y             z  \n",
       "count  53940.000000  53940.000000  53940.000000  \n",
       "mean       5.731157      5.734526      3.538734  \n",
       "std        1.121761      1.142135      0.705699  \n",
       "min        0.000000      0.000000      0.000000  \n",
       "25%        4.710000      4.720000      2.910000  \n",
       "50%        5.700000      5.710000      3.530000  \n",
       "75%        6.540000      6.540000      4.040000  \n",
       "max       10.740000     58.900000     31.800000  "
      ]
     },
     "execution_count": 9,
     "metadata": {},
     "output_type": "execute_result"
    }
   ],
   "source": [
    "dd.describe()"
   ]
  },
  {
   "cell_type": "code",
   "execution_count": 10,
   "id": "9cf7b612-6635-4f3a-b500-f27ac940448f",
   "metadata": {
    "id": "9cf7b612-6635-4f3a-b500-f27ac940448f"
   },
   "outputs": [],
   "source": [
    "dd.drop(['id'],axis = 1,inplace = True)"
   ]
  },
  {
   "cell_type": "markdown",
   "id": "0765e2f0-c09f-4055-b9d1-7675a7717b59",
   "metadata": {
    "id": "0765e2f0-c09f-4055-b9d1-7675a7717b59"
   },
   "source": [
    "### univariate analysis"
   ]
  },
  {
   "cell_type": "code",
   "execution_count": 11,
   "id": "08de331d-d3f1-4107-9f40-b8a5264c8329",
   "metadata": {
    "colab": {
     "base_uri": "https://localhost:8080/",
     "height": 1000
    },
    "id": "08de331d-d3f1-4107-9f40-b8a5264c8329",
    "outputId": "deb67d01-c4bd-467e-dc82-6c2ee1ba5678"
   },
   "outputs": [
    {
     "data": {
      "text/plain": [
       "array([[<AxesSubplot:title={'center':'carat'}>,\n",
       "        <AxesSubplot:title={'center':'depth'}>,\n",
       "        <AxesSubplot:title={'center':'table'}>],\n",
       "       [<AxesSubplot:title={'center':'price'}>,\n",
       "        <AxesSubplot:title={'center':'x'}>,\n",
       "        <AxesSubplot:title={'center':'y'}>],\n",
       "       [<AxesSubplot:title={'center':'z'}>, <AxesSubplot:>,\n",
       "        <AxesSubplot:>]], dtype=object)"
      ]
     },
     "execution_count": 11,
     "metadata": {},
     "output_type": "execute_result"
    },
    {
     "data": {
      "image/png": "[encoded data removed]",
      "text/plain": [
       "<Figure size 1080x1080 with 9 Axes>"
      ]
     },
     "metadata": {
      "needs_background": "light"
     },
     "output_type": "display_data"
    }
   ],
   "source": [
    "dd.hist(figsize = (15,15))"
   ]
  },
  {
   "cell_type": "code",
   "execution_count": 12,
   "id": "9f2fa84a-bad0-42c6-a08f-0aa5a227d39f",
   "metadata": {
    "colab": {
     "base_uri": "https://localhost:8080/",
     "height": 623
    },
    "id": "9f2fa84a-bad0-42c6-a08f-0aa5a227d39f",
    "outputId": "2ffcb9fe-a41f-46f2-c74e-41c2ef491076"
   },
   "outputs": [
    {
     "data": {
      "text/plain": [
       "<AxesSubplot:xlabel='depth', ylabel='Density'>"
      ]
     },
     "execution_count": 12,
     "metadata": {},
     "output_type": "execute_result"
    },
    {
     "data": {
      "image/png": "[encoded data removed]",
      "text/plain": [
       "<Figure size 1080x720 with 6 Axes>"
      ]
     },
     "metadata": {
      "needs_background": "light"
     },
     "output_type": "display_data"
    }
   ],
   "source": [
    "f, axes = plt.subplots(3,2, figsize=(15, 10))\n",
    "sns.distplot(dd['carat'], color=\"skyblue\", ax=axes[0,0])\n",
    "sns.distplot(dd['price'], color=\"teal\", ax=axes[0,1])\n",
    "sns.distplot(dd['x'], color=\"olive\", ax=axes[1,0])\n",
    "sns.distplot(dd['y'], color=\"gold\", ax=axes[1,1])\n",
    "sns.distplot(dd['z'], color=\"teal\", ax=axes[2,0])\n",
    "sns.distplot(dd['depth'], color=\"teal\", ax=axes[2,1])"
   ]
  },
  {
   "cell_type": "code",
   "execution_count": 13,
   "id": "f2175561-beee-439c-ba6b-63dbd39e8f4d",
   "metadata": {
    "colab": {
     "base_uri": "https://localhost:8080/",
     "height": 296
    },
    "id": "f2175561-beee-439c-ba6b-63dbd39e8f4d",
    "outputId": "943aa0d3-c86f-409e-99f7-a14a314b9fc7"
   },
   "outputs": [
    {
     "data": {
      "text/plain": [
       "<AxesSubplot:xlabel='cut', ylabel='count'>"
      ]
     },
     "execution_count": 13,
     "metadata": {},
     "output_type": "execute_result"
    },
    {
     "data": {
      "image/png": "[encoded data removed]",
      "text/plain": [
       "<Figure size 432x288 with 1 Axes>"
      ]
     },
     "metadata": {
      "needs_background": "light"
     },
     "output_type": "display_data"
    }
   ],
   "source": [
    "sns.countplot(dd['cut'])"
   ]
  },
  {
   "cell_type": "code",
   "execution_count": 14,
   "id": "53ee11ef-9d88-408a-b3ed-347e958c2dba",
   "metadata": {
    "colab": {
     "base_uri": "https://localhost:8080/",
     "height": 296
    },
    "id": "53ee11ef-9d88-408a-b3ed-347e958c2dba",
    "outputId": "060e8cdb-a7e2-4c51-e882-62b83886f5f3"
   },
   "outputs": [
    {
     "data": {
      "text/plain": [
       "<AxesSubplot:xlabel='color', ylabel='count'>"
      ]
     },
     "execution_count": 14,
     "metadata": {},
     "output_type": "execute_result"
    },
    {
     "data": {
      "image/png": "[encoded data removed]",
      "text/plain": [
       "<Figure size 432x288 with 1 Axes>"
      ]
     },
     "metadata": {
      "needs_background": "light"
     },
     "output_type": "display_data"
    }
   ],
   "source": [
    "sns.countplot(dd['color'])"
   ]
  },
  {
   "cell_type": "code",
   "execution_count": 15,
   "id": "d28db08a-4b5c-47be-81ca-0a6db405b70b",
   "metadata": {
    "colab": {
     "base_uri": "https://localhost:8080/",
     "height": 296
    },
    "id": "d28db08a-4b5c-47be-81ca-0a6db405b70b",
    "outputId": "26ac2b11-d8bf-453d-8dc3-f3947efa371c"
   },
   "outputs": [
    {
     "data": {
      "text/plain": [
       "<AxesSubplot:xlabel='clarity', ylabel='count'>"
      ]
     },
     "execution_count": 15,
     "metadata": {},
     "output_type": "execute_result"
    },
    {
     "data": {
      "image/png": "[encoded data removed]",
      "text/plain": [
       "<Figure size 432x288 with 1 Axes>"
      ]
     },
     "metadata": {
      "needs_background": "light"
     },
     "output_type": "display_data"
    }
   ],
   "source": [
    "sns.countplot(dd['clarity'])"
   ]
  },
  {
   "cell_type": "markdown",
   "id": "cbe19a95-ad0b-4522-8fb8-ea34bfbca368",
   "metadata": {
    "id": "cbe19a95-ad0b-4522-8fb8-ea34bfbca368"
   },
   "source": [
    "#### Observations :\n",
    "    1. Data is multimodal.\n",
    "    2. Skewness is observed in the dataset . carat and price are rightly skewed.\n",
    "    3. depth, table,X,Y,Z features are normally distributed.\n",
    "    4. with the reference of above count plot we have maximum no. of ideal cut diamond and minimum no. of fair cut diamond."
   ]
  },
  {
   "cell_type": "markdown",
   "id": "71752a37-1110-466a-beaf-0daf41e23036",
   "metadata": {
    "id": "71752a37-1110-466a-beaf-0daf41e23036"
   },
   "source": [
    "## Bivariate Analysis"
   ]
  },
  {
   "cell_type": "code",
   "execution_count": 16,
   "id": "d781ca32-3d63-4e78-a0b8-4134e9b6dee2",
   "metadata": {
    "id": "d781ca32-3d63-4e78-a0b8-4134e9b6dee2"
   },
   "outputs": [],
   "source": [
    "cor = dd.corr()"
   ]
  },
  {
   "cell_type": "code",
   "execution_count": 17,
   "id": "a0b03435-84f5-498a-8df2-4b61a0c052ee",
   "metadata": {
    "colab": {
     "base_uri": "https://localhost:8080/",
     "height": 286
    },
    "id": "a0b03435-84f5-498a-8df2-4b61a0c052ee",
    "outputId": "bd45bf8a-77ef-476e-91c5-ea22ad99182b"
   },
   "outputs": [
    {
     "data": {
      "text/plain": [
       "<AxesSubplot:>"
      ]
     },
     "execution_count": 17,
     "metadata": {},
     "output_type": "execute_result"
    },
    {
     "data": {
      "image/png": "[encoded data removed]",
      "text/plain": [
       "<Figure size 432x288 with 2 Axes>"
      ]
     },
     "metadata": {
      "needs_background": "light"
     },
     "output_type": "display_data"
    }
   ],
   "source": [
    "sns.heatmap(cor,annot = True)"
   ]
  },
  {
   "cell_type": "code",
   "execution_count": 18,
   "id": "860e1e47-5062-49f5-b56d-69a266a3f239",
   "metadata": {
    "colab": {
     "base_uri": "https://localhost:8080/",
     "height": 977
    },
    "id": "860e1e47-5062-49f5-b56d-69a266a3f239",
    "outputId": "9161204a-f174-483c-b0e2-b49b395e0f02"
   },
   "outputs": [
    {
     "data": {
      "text/plain": [
       "<seaborn.axisgrid.PairGrid at 0x16265521160>"
      ]
     },
     "execution_count": 18,
     "metadata": {},
     "output_type": "execute_result"
    },
    {
     "data": {
      "image/png": "[encoded data removed]",
      "text/plain": [
       "<Figure size 1260x1260 with 56 Axes>"
      ]
     },
     "metadata": {
      "needs_background": "light"
     },
     "output_type": "display_data"
    }
   ],
   "source": [
    "sns.pairplot(dd)"
   ]
  },
  {
   "cell_type": "code",
   "execution_count": 19,
   "id": "2e0dd9a3-5d1f-48f9-aacf-bab11fcbb56d",
   "metadata": {
    "colab": {
     "base_uri": "https://localhost:8080/",
     "height": 717
    },
    "id": "2e0dd9a3-5d1f-48f9-aacf-bab11fcbb56d",
    "outputId": "ba8113d2-0e39-4fa9-ff2c-2a6a24f6c8d4"
   },
   "outputs": [
    {
     "data": {
      "text/plain": [
       "<AxesSubplot:>"
      ]
     },
     "execution_count": 19,
     "metadata": {},
     "output_type": "execute_result"
    },
    {
     "data": {
      "image/png": "[encoded data removed]",
      "text/plain": [
       "<Figure size 864x864 with 1 Axes>"
      ]
     },
     "metadata": {
      "needs_background": "light"
     },
     "output_type": "display_data"
    }
   ],
   "source": [
    "plt.figure(figsize = (12,12))\n",
    "dd1 = dd.drop(['price'],axis =1)\n",
    "sns.boxplot(data = dd1,orient = 'h')"
   ]
  },
  {
   "cell_type": "markdown",
   "id": "a775393e-5df2-4c78-9b10-e3d86f03b5cf",
   "metadata": {
    "id": "a775393e-5df2-4c78-9b10-e3d86f03b5cf"
   },
   "source": [
    "#### Observations:\n",
    "    1. from the heatmap we can conclude that price (target column) has highly positive correlation with X,Y,Z and carat features.\n",
    "    2. from the box plot we can conclude that all the features have outliers"
   ]
  },
  {
   "cell_type": "markdown",
   "id": "3b0e50a2-4773-4895-b017-99838e0ff0a5",
   "metadata": {
    "id": "3b0e50a2-4773-4895-b017-99838e0ff0a5"
   },
   "source": [
    "# Handle missing values \n"
   ]
  },
  {
   "cell_type": "code",
   "execution_count": 20,
   "id": "bcac6049-c5aa-4f4c-b7c7-d8a61b3e629d",
   "metadata": {
    "colab": {
     "base_uri": "https://localhost:8080/"
    },
    "id": "bcac6049-c5aa-4f4c-b7c7-d8a61b3e629d",
    "outputId": "0df089da-08b1-430d-c763-9b970a4e6066"
   },
   "outputs": [
    {
     "data": {
      "text/plain": [
       "carat      0\n",
       "cut        0\n",
       "color      0\n",
       "clarity    0\n",
       "depth      0\n",
       "table      0\n",
       "price      0\n",
       "x          0\n",
       "y          0\n",
       "z          0\n",
       "dtype: int64"
      ]
     },
     "execution_count": 20,
     "metadata": {},
     "output_type": "execute_result"
    }
   ],
   "source": [
    "dd.isnull().sum()"
   ]
  },
  {
   "cell_type": "raw",
   "id": "4097dfb6-e786-480f-9f01-e4fdee5e73b9",
   "metadata": {
    "id": "4097dfb6-e786-480f-9f01-e4fdee5e73b9"
   },
   "source": [
    "Observations:\n",
    "    There are no missing values in this dataset."
   ]
  },
  {
   "cell_type": "markdown",
   "id": "fd5881e4-cb33-40fd-8482-0eb8a4edd451",
   "metadata": {
    "id": "fd5881e4-cb33-40fd-8482-0eb8a4edd451"
   },
   "source": [
    "# Outliers Handling"
   ]
  },
  {
   "cell_type": "code",
   "execution_count": 21,
   "id": "cdb3451b-616c-424c-aa2b-481379dc4a89",
   "metadata": {
    "id": "cdb3451b-616c-424c-aa2b-481379dc4a89"
   },
   "outputs": [],
   "source": [
    "# using InterQuartile Range we are handling outliers\n",
    "for colname,colvals in dd.iteritems():\n",
    "    if dd[colname].dtype!=object and colname!='price':\n",
    "        Q1=dd[colname].quantile(q=0.25)\n",
    "        Q3=dd[colname].quantile(q=0.75)\n",
    "        IQR=Q3-Q1\n",
    "        low=Q1-(1.5*IQR)\n",
    "        up=Q3+(1.5*IQR)\n",
    "        dd.loc[(dd[colname]<low) | (dd[colname]>up) ,colname]=dd[colname].median()\n",
    "    else:\n",
    "           continue"
   ]
  },
  {
   "cell_type": "code",
   "execution_count": 22,
   "id": "3a38dd66-9535-486b-9b6e-97c7113c780d",
   "metadata": {
    "colab": {
     "base_uri": "https://localhost:8080/",
     "height": 717
    },
    "id": "3a38dd66-9535-486b-9b6e-97c7113c780d",
    "outputId": "9b979037-527f-47d1-948a-7e7e7e3d4a4d"
   },
   "outputs": [
    {
     "data": {
      "text/plain": [
       "<AxesSubplot:>"
      ]
     },
     "execution_count": 22,
     "metadata": {},
     "output_type": "execute_result"
    },
    {
     "data": {
      "image/png": "[encoded data removed]",
      "text/plain": [
       "<Figure size 864x864 with 1 Axes>"
      ]
     },
     "metadata": {
      "needs_background": "light"
     },
     "output_type": "display_data"
    }
   ],
   "source": [
    "plt.figure(figsize = (12,12))\n",
    "dd1 = dd.drop(['price'],axis =1)\n",
    "sns.boxplot(data = dd1,orient = 'h')"
   ]
  },
  {
   "cell_type": "markdown",
   "id": "d88bdfd0-acff-499f-b285-72c725449607",
   "metadata": {
    "id": "d88bdfd0-acff-499f-b285-72c725449607"
   },
   "source": [
    " #### Observations:\n",
    "    depth and table shows max outliers, it may affect to our training dataset."
   ]
  },
  {
   "cell_type": "markdown",
   "id": "ac2482ad-a0e2-4879-9e66-998d8155b495",
   "metadata": {
    "id": "ac2482ad-a0e2-4879-9e66-998d8155b495"
   },
   "source": [
    "# Handle Categorical data "
   ]
  },
  {
   "cell_type": "code",
   "execution_count": 23,
   "id": "04dc26fc-1af2-4f9d-9f2a-91c826e776df",
   "metadata": {
    "colab": {
     "base_uri": "https://localhost:8080/",
     "height": 206
    },
    "id": "04dc26fc-1af2-4f9d-9f2a-91c826e776df",
    "outputId": "78ab373a-7279-44fb-ebba-8a7a38616fef"
   },
   "outputs": [
    {
     "data": {
      "text/html": [
       "<div>\n",
       "<style scoped>\n",
       "    .dataframe tbody tr th:only-of-type {\n",
       "        vertical-align: middle;\n",
       "    }\n",
       "\n",
       "    .dataframe tbody tr th {\n",
       "        vertical-align: top;\n",
       "    }\n",
       "\n",
       "    .dataframe thead th {\n",
       "        text-align: right;\n",
       "    }\n",
       "</style>\n",
       "<table border=\"1\" class=\"dataframe\">\n",
       "  <thead>\n",
       "    <tr style=\"text-align: right;\">\n",
       "      <th></th>\n",
       "      <th>cut</th>\n",
       "      <th>color</th>\n",
       "      <th>clarity</th>\n",
       "    </tr>\n",
       "  </thead>\n",
       "  <tbody>\n",
       "    <tr>\n",
       "      <th>0</th>\n",
       "      <td>Ideal</td>\n",
       "      <td>E</td>\n",
       "      <td>SI2</td>\n",
       "    </tr>\n",
       "    <tr>\n",
       "      <th>1</th>\n",
       "      <td>Premium</td>\n",
       "      <td>E</td>\n",
       "      <td>SI1</td>\n",
       "    </tr>\n",
       "    <tr>\n",
       "      <th>2</th>\n",
       "      <td>Good</td>\n",
       "      <td>E</td>\n",
       "      <td>VS1</td>\n",
       "    </tr>\n",
       "    <tr>\n",
       "      <th>3</th>\n",
       "      <td>Premium</td>\n",
       "      <td>I</td>\n",
       "      <td>VS2</td>\n",
       "    </tr>\n",
       "    <tr>\n",
       "      <th>4</th>\n",
       "      <td>Good</td>\n",
       "      <td>J</td>\n",
       "      <td>SI2</td>\n",
       "    </tr>\n",
       "  </tbody>\n",
       "</table>\n",
       "</div>"
      ],
      "text/plain": [
       "       cut color clarity\n",
       "0    Ideal     E     SI2\n",
       "1  Premium     E     SI1\n",
       "2     Good     E     VS1\n",
       "3  Premium     I     VS2\n",
       "4     Good     J     SI2"
      ]
     },
     "execution_count": 23,
     "metadata": {},
     "output_type": "execute_result"
    }
   ],
   "source": [
    "# categorical data\n",
    "cat_data=dd[dd.select_dtypes(include=[np.object]).columns.to_list()]\n",
    "cat_data.head()"
   ]
  },
  {
   "cell_type": "code",
   "execution_count": 24,
   "id": "dbfd23d2-a768-4295-9a2f-d72f2b22c8eb",
   "metadata": {
    "colab": {
     "base_uri": "https://localhost:8080/",
     "height": 206
    },
    "id": "dbfd23d2-a768-4295-9a2f-d72f2b22c8eb",
    "outputId": "ad0fa336-91f7-4a9f-aec8-9041f5471fbb"
   },
   "outputs": [
    {
     "data": {
      "text/html": [
       "<div>\n",
       "<style scoped>\n",
       "    .dataframe tbody tr th:only-of-type {\n",
       "        vertical-align: middle;\n",
       "    }\n",
       "\n",
       "    .dataframe tbody tr th {\n",
       "        vertical-align: top;\n",
       "    }\n",
       "\n",
       "    .dataframe thead th {\n",
       "        text-align: right;\n",
       "    }\n",
       "</style>\n",
       "<table border=\"1\" class=\"dataframe\">\n",
       "  <thead>\n",
       "    <tr style=\"text-align: right;\">\n",
       "      <th></th>\n",
       "      <th>carat</th>\n",
       "      <th>depth</th>\n",
       "      <th>table</th>\n",
       "      <th>price</th>\n",
       "      <th>x</th>\n",
       "      <th>y</th>\n",
       "      <th>z</th>\n",
       "    </tr>\n",
       "  </thead>\n",
       "  <tbody>\n",
       "    <tr>\n",
       "      <th>0</th>\n",
       "      <td>0.23</td>\n",
       "      <td>61.5</td>\n",
       "      <td>55.0</td>\n",
       "      <td>326</td>\n",
       "      <td>3.95</td>\n",
       "      <td>3.98</td>\n",
       "      <td>2.43</td>\n",
       "    </tr>\n",
       "    <tr>\n",
       "      <th>1</th>\n",
       "      <td>0.21</td>\n",
       "      <td>59.8</td>\n",
       "      <td>61.0</td>\n",
       "      <td>326</td>\n",
       "      <td>3.89</td>\n",
       "      <td>3.84</td>\n",
       "      <td>2.31</td>\n",
       "    </tr>\n",
       "    <tr>\n",
       "      <th>2</th>\n",
       "      <td>0.23</td>\n",
       "      <td>61.8</td>\n",
       "      <td>57.0</td>\n",
       "      <td>327</td>\n",
       "      <td>4.05</td>\n",
       "      <td>4.07</td>\n",
       "      <td>2.31</td>\n",
       "    </tr>\n",
       "    <tr>\n",
       "      <th>3</th>\n",
       "      <td>0.29</td>\n",
       "      <td>62.4</td>\n",
       "      <td>58.0</td>\n",
       "      <td>334</td>\n",
       "      <td>4.20</td>\n",
       "      <td>4.23</td>\n",
       "      <td>2.63</td>\n",
       "    </tr>\n",
       "    <tr>\n",
       "      <th>4</th>\n",
       "      <td>0.31</td>\n",
       "      <td>63.3</td>\n",
       "      <td>58.0</td>\n",
       "      <td>335</td>\n",
       "      <td>4.34</td>\n",
       "      <td>4.35</td>\n",
       "      <td>2.75</td>\n",
       "    </tr>\n",
       "  </tbody>\n",
       "</table>\n",
       "</div>"
      ],
      "text/plain": [
       "   carat  depth  table  price     x     y     z\n",
       "0   0.23   61.5   55.0    326  3.95  3.98  2.43\n",
       "1   0.21   59.8   61.0    326  3.89  3.84  2.31\n",
       "2   0.23   61.8   57.0    327  4.05  4.07  2.31\n",
       "3   0.29   62.4   58.0    334  4.20  4.23  2.63\n",
       "4   0.31   63.3   58.0    335  4.34  4.35  2.75"
      ]
     },
     "execution_count": 24,
     "metadata": {},
     "output_type": "execute_result"
    }
   ],
   "source": [
    "# numerical data\n",
    "num_data=dd[dd.select_dtypes(include=[np.number]).columns.to_list()]\n",
    "num_data.head()"
   ]
  },
  {
   "cell_type": "code",
   "execution_count": 25,
   "id": "e45aae77-460b-4463-a009-cbdd80e9e669",
   "metadata": {
    "colab": {
     "base_uri": "https://localhost:8080/",
     "height": 206
    },
    "id": "e45aae77-460b-4463-a009-cbdd80e9e669",
    "outputId": "2f4966d5-8c5f-425d-9fa4-5243d664e67f"
   },
   "outputs": [
    {
     "data": {
      "text/html": [
       "<div>\n",
       "<style scoped>\n",
       "    .dataframe tbody tr th:only-of-type {\n",
       "        vertical-align: middle;\n",
       "    }\n",
       "\n",
       "    .dataframe tbody tr th {\n",
       "        vertical-align: top;\n",
       "    }\n",
       "\n",
       "    .dataframe thead th {\n",
       "        text-align: right;\n",
       "    }\n",
       "</style>\n",
       "<table border=\"1\" class=\"dataframe\">\n",
       "  <thead>\n",
       "    <tr style=\"text-align: right;\">\n",
       "      <th></th>\n",
       "      <th>cut</th>\n",
       "      <th>color</th>\n",
       "      <th>clarity</th>\n",
       "    </tr>\n",
       "  </thead>\n",
       "  <tbody>\n",
       "    <tr>\n",
       "      <th>0</th>\n",
       "      <td>2</td>\n",
       "      <td>1</td>\n",
       "      <td>3</td>\n",
       "    </tr>\n",
       "    <tr>\n",
       "      <th>1</th>\n",
       "      <td>3</td>\n",
       "      <td>1</td>\n",
       "      <td>2</td>\n",
       "    </tr>\n",
       "    <tr>\n",
       "      <th>2</th>\n",
       "      <td>1</td>\n",
       "      <td>1</td>\n",
       "      <td>4</td>\n",
       "    </tr>\n",
       "    <tr>\n",
       "      <th>3</th>\n",
       "      <td>3</td>\n",
       "      <td>5</td>\n",
       "      <td>5</td>\n",
       "    </tr>\n",
       "    <tr>\n",
       "      <th>4</th>\n",
       "      <td>1</td>\n",
       "      <td>6</td>\n",
       "      <td>3</td>\n",
       "    </tr>\n",
       "  </tbody>\n",
       "</table>\n",
       "</div>"
      ],
      "text/plain": [
       "   cut  color  clarity\n",
       "0    2      1        3\n",
       "1    3      1        2\n",
       "2    1      1        4\n",
       "3    3      5        5\n",
       "4    1      6        3"
      ]
     },
     "execution_count": 25,
     "metadata": {},
     "output_type": "execute_result"
    }
   ],
   "source": [
    "# Convert categorical data into numerical\n",
    "\n",
    "from sklearn.preprocessing import LabelEncoder\n",
    "cat_data=cat_data.apply(LabelEncoder().fit_transform)\n",
    "cat_data.head()"
   ]
  },
  {
   "cell_type": "markdown",
   "id": "1e4c1456-2832-47f7-888b-f589ba28d54e",
   "metadata": {
    "id": "1e4c1456-2832-47f7-888b-f589ba28d54e"
   },
   "source": [
    "#### Observations:\n",
    "1. Label Encoding converts categorical data to numerical data. \n",
    "2. our data is ordinal so so we are using label encoder here.\n"
   ]
  },
  {
   "cell_type": "code",
   "execution_count": 26,
   "id": "4f253b63-1ccb-459d-99b8-dceb62a2af6c",
   "metadata": {
    "colab": {
     "base_uri": "https://localhost:8080/",
     "height": 206
    },
    "id": "4f253b63-1ccb-459d-99b8-dceb62a2af6c",
    "outputId": "96828704-be6a-4d40-b186-5aeb3efee5a7"
   },
   "outputs": [
    {
     "data": {
      "text/html": [
       "<div>\n",
       "<style scoped>\n",
       "    .dataframe tbody tr th:only-of-type {\n",
       "        vertical-align: middle;\n",
       "    }\n",
       "\n",
       "    .dataframe tbody tr th {\n",
       "        vertical-align: top;\n",
       "    }\n",
       "\n",
       "    .dataframe thead th {\n",
       "        text-align: right;\n",
       "    }\n",
       "</style>\n",
       "<table border=\"1\" class=\"dataframe\">\n",
       "  <thead>\n",
       "    <tr style=\"text-align: right;\">\n",
       "      <th></th>\n",
       "      <th>carat</th>\n",
       "      <th>depth</th>\n",
       "      <th>table</th>\n",
       "      <th>price</th>\n",
       "      <th>x</th>\n",
       "      <th>y</th>\n",
       "      <th>z</th>\n",
       "      <th>cut</th>\n",
       "      <th>color</th>\n",
       "      <th>clarity</th>\n",
       "    </tr>\n",
       "  </thead>\n",
       "  <tbody>\n",
       "    <tr>\n",
       "      <th>0</th>\n",
       "      <td>0.23</td>\n",
       "      <td>61.5</td>\n",
       "      <td>55.0</td>\n",
       "      <td>326</td>\n",
       "      <td>3.95</td>\n",
       "      <td>3.98</td>\n",
       "      <td>2.43</td>\n",
       "      <td>2</td>\n",
       "      <td>1</td>\n",
       "      <td>3</td>\n",
       "    </tr>\n",
       "    <tr>\n",
       "      <th>1</th>\n",
       "      <td>0.21</td>\n",
       "      <td>59.8</td>\n",
       "      <td>61.0</td>\n",
       "      <td>326</td>\n",
       "      <td>3.89</td>\n",
       "      <td>3.84</td>\n",
       "      <td>2.31</td>\n",
       "      <td>3</td>\n",
       "      <td>1</td>\n",
       "      <td>2</td>\n",
       "    </tr>\n",
       "    <tr>\n",
       "      <th>2</th>\n",
       "      <td>0.23</td>\n",
       "      <td>61.8</td>\n",
       "      <td>57.0</td>\n",
       "      <td>327</td>\n",
       "      <td>4.05</td>\n",
       "      <td>4.07</td>\n",
       "      <td>2.31</td>\n",
       "      <td>1</td>\n",
       "      <td>1</td>\n",
       "      <td>4</td>\n",
       "    </tr>\n",
       "    <tr>\n",
       "      <th>3</th>\n",
       "      <td>0.29</td>\n",
       "      <td>62.4</td>\n",
       "      <td>58.0</td>\n",
       "      <td>334</td>\n",
       "      <td>4.20</td>\n",
       "      <td>4.23</td>\n",
       "      <td>2.63</td>\n",
       "      <td>3</td>\n",
       "      <td>5</td>\n",
       "      <td>5</td>\n",
       "    </tr>\n",
       "    <tr>\n",
       "      <th>4</th>\n",
       "      <td>0.31</td>\n",
       "      <td>63.3</td>\n",
       "      <td>58.0</td>\n",
       "      <td>335</td>\n",
       "      <td>4.34</td>\n",
       "      <td>4.35</td>\n",
       "      <td>2.75</td>\n",
       "      <td>1</td>\n",
       "      <td>6</td>\n",
       "      <td>3</td>\n",
       "    </tr>\n",
       "  </tbody>\n",
       "</table>\n",
       "</div>"
      ],
      "text/plain": [
       "   carat  depth  table  price     x     y     z  cut  color  clarity\n",
       "0   0.23   61.5   55.0    326  3.95  3.98  2.43    2      1        3\n",
       "1   0.21   59.8   61.0    326  3.89  3.84  2.31    3      1        2\n",
       "2   0.23   61.8   57.0    327  4.05  4.07  2.31    1      1        4\n",
       "3   0.29   62.4   58.0    334  4.20  4.23  2.63    3      5        5\n",
       "4   0.31   63.3   58.0    335  4.34  4.35  2.75    1      6        3"
      ]
     },
     "execution_count": 26,
     "metadata": {},
     "output_type": "execute_result"
    }
   ],
   "source": [
    "# combining numerical and categorical data\n",
    "\n",
    "diamond=pd.concat([num_data,cat_data],axis=1)\n",
    "diamond.head()"
   ]
  },
  {
   "cell_type": "markdown",
   "id": "d29644e3-dfc0-471e-8f94-8304954a7fb8",
   "metadata": {
    "id": "d29644e3-dfc0-471e-8f94-8304954a7fb8"
   },
   "source": [
    "# Data is ready to learn from algorithm"
   ]
  },
  {
   "cell_type": "markdown",
   "id": "7e4eb285-809b-4eb4-b94a-8e8daf18a8bd",
   "metadata": {
    "id": "7e4eb285-809b-4eb4-b94a-8e8daf18a8bd"
   },
   "source": [
    "## Selecting Features And Target  "
   ]
  },
  {
   "cell_type": "code",
   "execution_count": 27,
   "id": "e2bd383e-d211-42c5-878c-91e6892f1528",
   "metadata": {
    "id": "e2bd383e-d211-42c5-878c-91e6892f1528"
   },
   "outputs": [],
   "source": [
    "X = diamond.drop('price',axis=1)\n",
    "y= diamond['price']"
   ]
  },
  {
   "cell_type": "markdown",
   "id": "05756bc6-d868-404d-92e2-e693188a8ce6",
   "metadata": {
    "id": "05756bc6-d868-404d-92e2-e693188a8ce6"
   },
   "source": [
    "### Standardization "
   ]
  },
  {
   "cell_type": "code",
   "execution_count": 28,
   "id": "f0bae53c-037d-4fca-a0c0-0e5d665fd596",
   "metadata": {
    "id": "f0bae53c-037d-4fca-a0c0-0e5d665fd596"
   },
   "outputs": [],
   "source": [
    "from sklearn.preprocessing import StandardScaler\n",
    "# define min max scaler\n",
    "scaler = StandardScaler()\n",
    "# transform data\n",
    "X_scaled = scaler.fit_transform(X)"
   ]
  },
  {
   "cell_type": "code",
   "execution_count": 29,
   "id": "a9fa20a4-a811-4d24-8394-bf5ebd705709",
   "metadata": {
    "id": "a9fa20a4-a811-4d24-8394-bf5ebd705709"
   },
   "outputs": [],
   "source": [
    "### Summary about Standardization "
   ]
  },
  {
   "cell_type": "code",
   "execution_count": null,
   "id": "4002ed70-7cf4-4ae2-9a2b-4e4645455839",
   "metadata": {
    "id": "4002ed70-7cf4-4ae2-9a2b-4e4645455839"
   },
   "outputs": [],
   "source": []
  },
  {
   "cell_type": "markdown",
   "id": "46a39087-f563-4791-81f9-305cb033e185",
   "metadata": {
    "id": "46a39087-f563-4791-81f9-305cb033e185"
   },
   "source": [
    "### Sampling Data Into Train And Test "
   ]
  },
  {
   "cell_type": "code",
   "execution_count": 30,
   "id": "24ff7c7b-fd07-42e0-ba2c-9ee31539c59c",
   "metadata": {
    "id": "24ff7c7b-fd07-42e0-ba2c-9ee31539c59c"
   },
   "outputs": [],
   "source": [
    "from sklearn.model_selection import train_test_split\n",
    "X_train,X_test,y_train,y_test = train_test_split(X_scaled,y,test_size=0.2,random_state=42)\n"
   ]
  },
  {
   "cell_type": "code",
   "execution_count": 31,
   "id": "02b08177-9e41-4866-8a20-0d9e9789828e",
   "metadata": {
    "colab": {
     "base_uri": "https://localhost:8080/"
    },
    "id": "02b08177-9e41-4866-8a20-0d9e9789828e",
    "outputId": "18922270-8094-47ac-ec7c-38a615995e08"
   },
   "outputs": [
    {
     "name": "stdout",
     "output_type": "stream",
     "text": [
      "Train size 388368\n",
      "Train shape (43152, 9)\n",
      "Test size 97092\n",
      "Test shape (10788, 9)\n"
     ]
    }
   ],
   "source": [
    "print(\"Train size\",X_train.size)\n",
    "print(\"Train shape\",X_train.shape)\n",
    "print(\"Test size\",X_test.size)\n",
    "print(\"Test shape\",X_test.shape)"
   ]
  },
  {
   "cell_type": "markdown",
   "id": "e1c151b4-b750-4cc0-88ac-cde8462f542b",
   "metadata": {
    "id": "e1c151b4-b750-4cc0-88ac-cde8462f542b"
   },
   "source": [
    "# Simple Linear Regresssion "
   ]
  },
  {
   "cell_type": "code",
   "execution_count": 32,
   "id": "1638b1b2-29e2-47ff-8550-5e59cde664fe",
   "metadata": {
    "id": "1638b1b2-29e2-47ff-8550-5e59cde664fe"
   },
   "outputs": [],
   "source": [
    "# Selecting Features And Target For Simple Linear Regression \n",
    "A = diamond[['carat']]\n",
    "b= diamond['price']"
   ]
  },
  {
   "cell_type": "code",
   "execution_count": 33,
   "id": "1bc23712-5f69-4ec6-90fd-8fd39266adb9",
   "metadata": {
    "id": "1bc23712-5f69-4ec6-90fd-8fd39266adb9"
   },
   "outputs": [],
   "source": [
    "from sklearn.preprocessing import StandardScaler\n",
    "# define min max scaler\n",
    "scaler = StandardScaler()\n",
    "# transform data\n",
    "A_scaled = scaler.fit_transform(A)"
   ]
  },
  {
   "cell_type": "code",
   "execution_count": 34,
   "id": "948bd9a8-e701-4684-979a-d4f23b6b2b5a",
   "metadata": {
    "id": "948bd9a8-e701-4684-979a-d4f23b6b2b5a"
   },
   "outputs": [],
   "source": [
    "from sklearn.model_selection import train_test_split\n",
    "A_train,A_test,b_train,b_test = train_test_split(A_scaled,b,test_size=0.2)"
   ]
  },
  {
   "cell_type": "code",
   "execution_count": 35,
   "id": "31b9406d-5d18-42a6-981c-170030ffab15",
   "metadata": {
    "colab": {
     "base_uri": "https://localhost:8080/"
    },
    "id": "31b9406d-5d18-42a6-981c-170030ffab15",
    "outputId": "54e2342c-d690-476f-9a7a-9bc6e85acce5"
   },
   "outputs": [
    {
     "name": "stdout",
     "output_type": "stream",
     "text": [
      "Train size 43152\n",
      "Train shape (43152, 1)\n",
      "Test size 10788\n",
      "Test shape (10788, 1)\n"
     ]
    }
   ],
   "source": [
    "print(\"Train size\",A_train.size)\n",
    "print(\"Train shape\",A_train.shape)\n",
    "print(\"Test size\",A_test.size)\n",
    "print(\"Test shape\",A_test.shape)"
   ]
  },
  {
   "cell_type": "code",
   "execution_count": 36,
   "id": "94426f2c-e30a-4f63-b327-81f0eed389f1",
   "metadata": {
    "colab": {
     "base_uri": "https://localhost:8080/"
    },
    "id": "94426f2c-e30a-4f63-b327-81f0eed389f1",
    "outputId": "5d7df8dd-e7a6-4bfa-dbbb-2f9462334556"
   },
   "outputs": [
    {
     "name": "stdout",
     "output_type": "stream",
     "text": [
      "Test size 10788\n",
      "Test shape (10788, 1)\n",
      "10788\n",
      "(10788,)\n"
     ]
    }
   ],
   "source": [
    "print(\"Test size\",A_test.size)\n",
    "print(\"Test shape\",A_test.shape)\n",
    "print(b_test.size)\n",
    "print(b_test.shape)"
   ]
  },
  {
   "cell_type": "code",
   "execution_count": 37,
   "id": "f85f6390-9de0-4ca3-8056-d1f1efd03954",
   "metadata": {
    "id": "f85f6390-9de0-4ca3-8056-d1f1efd03954"
   },
   "outputs": [],
   "source": [
    "# Linear Regression\n",
    "from sklearn.linear_model import LinearRegression\n",
    "reg = LinearRegression()\n",
    "reg.fit(A_train,b_train)\n",
    "Reg_predict=reg.predict(A_test)\n"
   ]
  },
  {
   "cell_type": "code",
   "execution_count": 38,
   "id": "de12afc7-cd9d-4fed-8be2-54ffe1372df4",
   "metadata": {
    "colab": {
     "base_uri": "https://localhost:8080/"
    },
    "id": "de12afc7-cd9d-4fed-8be2-54ffe1372df4",
    "outputId": "70760bd4-8d4c-49ef-b94e-c786f2254caf"
   },
   "outputs": [
    {
     "data": {
      "text/plain": [
       "0.5754747234496761"
      ]
     },
     "execution_count": 38,
     "metadata": {},
     "output_type": "execute_result"
    }
   ],
   "source": [
    "reg.score(A_test,b_test)"
   ]
  },
  {
   "cell_type": "code",
   "execution_count": 39,
   "id": "6e71cd52-c28f-4bb7-8a15-95ac373b8efe",
   "metadata": {
    "colab": {
     "base_uri": "https://localhost:8080/"
    },
    "id": "6e71cd52-c28f-4bb7-8a15-95ac373b8efe",
    "outputId": "30416b02-f761-4e55-b24f-93913e963881"
   },
   "outputs": [
    {
     "data": {
      "text/plain": [
       "0.5573924950128453"
      ]
     },
     "execution_count": 39,
     "metadata": {},
     "output_type": "execute_result"
    }
   ],
   "source": [
    "reg.score(A_train,b_train)"
   ]
  },
  {
   "cell_type": "code",
   "execution_count": 40,
   "id": "96a7a28e-1215-46aa-911f-cc575d6c701b",
   "metadata": {
    "id": "96a7a28e-1215-46aa-911f-cc575d6c701b"
   },
   "outputs": [],
   "source": [
    "from sklearn import metrics\n",
    "import math\n",
    "R_score= metrics.r2_score(b_test,Reg_predict)\n",
    "MSE = metrics.mean_squared_error(b_test,Reg_predict)\n",
    "MAE = metrics.mean_absolute_error(b_test,Reg_predict)\n",
    "RMSE = math.sqrt(metrics.mean_squared_error(b_test, Reg_predict))"
   ]
  },
  {
   "cell_type": "code",
   "execution_count": 41,
   "id": "e9fbce6d-5304-4a76-8699-13ac4551ed12",
   "metadata": {
    "colab": {
     "base_uri": "https://localhost:8080/",
     "height": 81
    },
    "id": "e9fbce6d-5304-4a76-8699-13ac4551ed12",
    "outputId": "140e97db-6559-4f50-b5b3-55a92bac5b08"
   },
   "outputs": [
    {
     "data": {
      "text/html": [
       "<div>\n",
       "<style scoped>\n",
       "    .dataframe tbody tr th:only-of-type {\n",
       "        vertical-align: middle;\n",
       "    }\n",
       "\n",
       "    .dataframe tbody tr th {\n",
       "        vertical-align: top;\n",
       "    }\n",
       "\n",
       "    .dataframe thead th {\n",
       "        text-align: right;\n",
       "    }\n",
       "</style>\n",
       "<table border=\"1\" class=\"dataframe\">\n",
       "  <thead>\n",
       "    <tr style=\"text-align: right;\">\n",
       "      <th></th>\n",
       "      <th>Algorithm</th>\n",
       "      <th>R Square</th>\n",
       "      <th>Mean Squared Error</th>\n",
       "      <th>Mean Absolute Error</th>\n",
       "      <th>Root Mean Squared Error</th>\n",
       "    </tr>\n",
       "  </thead>\n",
       "  <tbody>\n",
       "    <tr>\n",
       "      <th>1</th>\n",
       "      <td>Linear Regression</td>\n",
       "      <td>0.575475</td>\n",
       "      <td>6.650444e+06</td>\n",
       "      <td>1373.692828</td>\n",
       "      <td>2578.845565</td>\n",
       "    </tr>\n",
       "  </tbody>\n",
       "</table>\n",
       "</div>"
      ],
      "text/plain": [
       "           Algorithm  R Square  Mean Squared Error  Mean Absolute Error  \\\n",
       "1  Linear Regression  0.575475        6.650444e+06          1373.692828   \n",
       "\n",
       "   Root Mean Squared Error  \n",
       "1              2578.845565  "
      ]
     },
     "execution_count": 41,
     "metadata": {},
     "output_type": "execute_result"
    }
   ],
   "source": [
    "random_re = pd.DataFrame({'Algorithm':['Linear Regression'],'R Square':[R_score],'Mean Squared Error':[MSE],'Mean Absolute Error':[MAE],'Root Mean Squared Error':[RMSE]},index={'1'})\n",
    "results = random_re[['Algorithm','R Square','Mean Squared Error','Mean Absolute Error','Root Mean Squared Error']]\n",
    "results"
   ]
  },
  {
   "cell_type": "markdown",
   "id": "38f49fef-ab83-4427-ac50-e699659d23ea",
   "metadata": {
    "id": "38f49fef-ab83-4427-ac50-e699659d23ea"
   },
   "source": [
    "# Multi Linear Regression Analysis "
   ]
  },
  {
   "cell_type": "code",
   "execution_count": 42,
   "id": "6496eca7-de7b-48f8-ba46-8f4fadb217b1",
   "metadata": {
    "id": "6496eca7-de7b-48f8-ba46-8f4fadb217b1"
   },
   "outputs": [],
   "source": [
    "reg = LinearRegression()\n",
    "reg.fit(X_train, y_train)\n",
    "Reg_predict_1=reg.predict(X_test)"
   ]
  },
  {
   "cell_type": "code",
   "execution_count": 43,
   "id": "6151815c-14a3-4bdb-99b5-522e4909fc3b",
   "metadata": {
    "colab": {
     "base_uri": "https://localhost:8080/"
    },
    "id": "6151815c-14a3-4bdb-99b5-522e4909fc3b",
    "outputId": "5ca45e70-4a91-457d-83b1-a7da24ee3ba5"
   },
   "outputs": [
    {
     "data": {
      "text/plain": [
       "0.8153404695763162"
      ]
     },
     "execution_count": 43,
     "metadata": {},
     "output_type": "execute_result"
    }
   ],
   "source": [
    "reg.score(X_train,y_train)"
   ]
  },
  {
   "cell_type": "code",
   "execution_count": 44,
   "id": "aa623d9b-3166-4298-9f28-ddc6822507b6",
   "metadata": {
    "colab": {
     "base_uri": "https://localhost:8080/"
    },
    "id": "aa623d9b-3166-4298-9f28-ddc6822507b6",
    "outputId": "513dfb2c-ca9b-4e6a-bbf3-a3e9ad99f7db"
   },
   "outputs": [
    {
     "data": {
      "text/plain": [
       "0.8142317830521051"
      ]
     },
     "execution_count": 44,
     "metadata": {},
     "output_type": "execute_result"
    }
   ],
   "source": [
    "reg.score(X_test,y_test)"
   ]
  },
  {
   "cell_type": "code",
   "execution_count": 45,
   "id": "d9c2137c-f45a-45a6-ae39-61ef25868b60",
   "metadata": {
    "id": "d9c2137c-f45a-45a6-ae39-61ef25868b60"
   },
   "outputs": [],
   "source": [
    "R_score_1= metrics.r2_score(y_test,Reg_predict_1)\n",
    "MSE_1 = metrics.mean_squared_error(y_test,Reg_predict_1)\n",
    "MAE_1 = metrics.mean_absolute_error(y_test,Reg_predict_1)\n",
    "RMSE_1= math.sqrt(metrics.mean_squared_error(y_test,Reg_predict_1))"
   ]
  },
  {
   "cell_type": "code",
   "execution_count": 46,
   "id": "9d27ae43-c1d8-40f8-b2e6-3287c63698a3",
   "metadata": {
    "colab": {
     "base_uri": "https://localhost:8080/",
     "height": 112
    },
    "id": "9d27ae43-c1d8-40f8-b2e6-3287c63698a3",
    "outputId": "f310145c-1b60-492a-fbce-863b9fb871b7"
   },
   "outputs": [
    {
     "data": {
      "text/html": [
       "<div>\n",
       "<style scoped>\n",
       "    .dataframe tbody tr th:only-of-type {\n",
       "        vertical-align: middle;\n",
       "    }\n",
       "\n",
       "    .dataframe tbody tr th {\n",
       "        vertical-align: top;\n",
       "    }\n",
       "\n",
       "    .dataframe thead th {\n",
       "        text-align: right;\n",
       "    }\n",
       "</style>\n",
       "<table border=\"1\" class=\"dataframe\">\n",
       "  <thead>\n",
       "    <tr style=\"text-align: right;\">\n",
       "      <th></th>\n",
       "      <th>Algorithm</th>\n",
       "      <th>R Square</th>\n",
       "      <th>Mean Squared Error</th>\n",
       "      <th>Mean Absolute Error</th>\n",
       "      <th>Root Mean Squared Error</th>\n",
       "    </tr>\n",
       "  </thead>\n",
       "  <tbody>\n",
       "    <tr>\n",
       "      <th>1</th>\n",
       "      <td>Linear Regression</td>\n",
       "      <td>0.575475</td>\n",
       "      <td>6.650444e+06</td>\n",
       "      <td>1373.692828</td>\n",
       "      <td>2578.845565</td>\n",
       "    </tr>\n",
       "    <tr>\n",
       "      <th>2</th>\n",
       "      <td>Multi Linear Regression</td>\n",
       "      <td>0.814232</td>\n",
       "      <td>2.953124e+06</td>\n",
       "      <td>1304.562520</td>\n",
       "      <td>1718.465646</td>\n",
       "    </tr>\n",
       "  </tbody>\n",
       "</table>\n",
       "</div>"
      ],
      "text/plain": [
       "                 Algorithm  R Square  Mean Squared Error  Mean Absolute Error  \\\n",
       "1        Linear Regression  0.575475        6.650444e+06          1373.692828   \n",
       "2  Multi Linear Regression  0.814232        2.953124e+06          1304.562520   \n",
       "\n",
       "   Root Mean Squared Error  \n",
       "1              2578.845565  \n",
       "2              1718.465646  "
      ]
     },
     "execution_count": 46,
     "metadata": {},
     "output_type": "execute_result"
    }
   ],
   "source": [
    "random_1 = pd.DataFrame({'Algorithm':['Multi Linear Regression'],'R Square':[R_score_1],'Mean Squared Error':[MSE_1],'Mean Absolute Error':[MAE_1],'Root Mean Squared Error':[RMSE_1]},index={'2'})\n",
    "results_1 = pd.concat([results,random_1])\n",
    "results_1 = results_1[['Algorithm','R Square','Mean Squared Error','Mean Absolute Error','Root Mean Squared Error']]\n",
    "results_1"
   ]
  },
  {
   "cell_type": "markdown",
   "id": "8fc38621-2d3f-4df2-9a68-f9a30f96e03c",
   "metadata": {
    "id": "6034e04b-8d05-4e05-82dd-264594d744af"
   },
   "source": [
    "# As I see my data is not overfitting so I dont need of cost fuctions but still for practising purpose I used loss or cost functions."
   ]
  },
  {
   "cell_type": "markdown",
   "id": "3b444be7-897c-4912-970b-f392e5d180e8",
   "metadata": {
    "id": "3b444be7-897c-4912-970b-f392e5d180e8"
   },
   "source": [
    "## Using Lasso (L1 Regularized) Regression Model"
   ]
  },
  {
   "cell_type": "code",
   "execution_count": 47,
   "id": "6612b74c-f9c9-47ab-b674-e476184d4bd6",
   "metadata": {
    "colab": {
     "base_uri": "https://localhost:8080/"
    },
    "id": "6612b74c-f9c9-47ab-b674-e476184d4bd6",
    "outputId": "339b7cdb-b3a0-418b-bb46-18ab54a3e9e3"
   },
   "outputs": [
    {
     "data": {
      "text/plain": [
       "Lasso()"
      ]
     },
     "execution_count": 47,
     "metadata": {},
     "output_type": "execute_result"
    }
   ],
   "source": [
    "from sklearn import linear_model\n",
    "lasso_reg = linear_model.Lasso()\n",
    "lasso_reg.fit(X_train,y_train)"
   ]
  },
  {
   "cell_type": "code",
   "execution_count": 48,
   "id": "b9fa1ace-306a-4907-acae-fe9d6dfda30a",
   "metadata": {
    "colab": {
     "base_uri": "https://localhost:8080/"
    },
    "id": "b9fa1ace-306a-4907-acae-fe9d6dfda30a",
    "outputId": "f1f11016-1106-4585-edcc-1ffa09283ab7"
   },
   "outputs": [
    {
     "data": {
      "text/plain": [
       "0.8153380674622224"
      ]
     },
     "execution_count": 48,
     "metadata": {},
     "output_type": "execute_result"
    }
   ],
   "source": [
    "lasso_reg.score(X_train,y_train)"
   ]
  },
  {
   "cell_type": "code",
   "execution_count": 49,
   "id": "d42eec86-76af-413f-a440-ac028b794589",
   "metadata": {
    "colab": {
     "base_uri": "https://localhost:8080/"
    },
    "id": "d42eec86-76af-413f-a440-ac028b794589",
    "outputId": "31919b85-f642-4a7b-9ffd-2404641e50c7"
   },
   "outputs": [
    {
     "data": {
      "text/plain": [
       "0.8142315719758566"
      ]
     },
     "execution_count": 49,
     "metadata": {},
     "output_type": "execute_result"
    }
   ],
   "source": [
    "lasso_reg.score(X_test,y_test)"
   ]
  },
  {
   "cell_type": "markdown",
   "id": "34172d78-9ce2-43b2-b0eb-f32aed691d72",
   "metadata": {
    "id": "34172d78-9ce2-43b2-b0eb-f32aed691d72"
   },
   "source": [
    "## Using Ridge (L2 Regularized) Regression Model"
   ]
  },
  {
   "cell_type": "code",
   "execution_count": 50,
   "id": "14f4b778-0bda-490a-abcf-e30b89856ec6",
   "metadata": {
    "colab": {
     "base_uri": "https://localhost:8080/"
    },
    "id": "14f4b778-0bda-490a-abcf-e30b89856ec6",
    "outputId": "46e94725-6ada-4615-80b7-b59f1933fced"
   },
   "outputs": [
    {
     "data": {
      "text/plain": [
       "Ridge(alpha=50, max_iter=100, tol=0.1)"
      ]
     },
     "execution_count": 50,
     "metadata": {},
     "output_type": "execute_result"
    }
   ],
   "source": [
    "from sklearn.linear_model import Ridge\n",
    "ridge_reg= Ridge(alpha=50, max_iter=100, tol=0.1)\n",
    "ridge_reg.fit(X_train,y_train)"
   ]
  },
  {
   "cell_type": "code",
   "execution_count": 51,
   "id": "bfaf8aff-0d0d-4b43-a73e-0a5c5fd5fd23",
   "metadata": {
    "colab": {
     "base_uri": "https://localhost:8080/"
    },
    "id": "bfaf8aff-0d0d-4b43-a73e-0a5c5fd5fd23",
    "outputId": "cc65d0e3-bec5-4413-8925-873601c4cd11"
   },
   "outputs": [
    {
     "data": {
      "text/plain": [
       "0.8152968319800737"
      ]
     },
     "execution_count": 51,
     "metadata": {},
     "output_type": "execute_result"
    }
   ],
   "source": [
    "ridge_reg.score(X_train,y_train)"
   ]
  },
  {
   "cell_type": "code",
   "execution_count": 52,
   "id": "a9ff45a7-3b7f-4d51-abd1-f1b697fac31a",
   "metadata": {
    "colab": {
     "base_uri": "https://localhost:8080/"
    },
    "id": "a9ff45a7-3b7f-4d51-abd1-f1b697fac31a",
    "outputId": "e56d62c9-fdc4-4747-f132-c0aab4d72af1"
   },
   "outputs": [
    {
     "data": {
      "text/plain": [
       "0.8139423247240689"
      ]
     },
     "execution_count": 52,
     "metadata": {},
     "output_type": "execute_result"
    }
   ],
   "source": [
    "ridge_reg.score(X_test,y_test)"
   ]
  },
  {
   "cell_type": "markdown",
   "id": "14cd833e-449a-4bad-88f1-fce11a318074",
   "metadata": {
    "id": "14cd833e-449a-4bad-88f1-fce11a318074"
   },
   "source": [
    "**We see that Lasso and Ridge Regularizations prove to be beneficial when our Simple Linear Regression Model overfits. These results may not be that contrast but significant in most cases.Also that L1 & L2 Regularizations are used in Neural Networks too**"
   ]
  },
  {
   "cell_type": "markdown",
   "id": "dea5c5cb-61ee-40c6-8b17-081f14fb3a63",
   "metadata": {
    "id": "dea5c5cb-61ee-40c6-8b17-081f14fb3a63"
   },
   "source": [
    "# Decision Tree Regression Analysis"
   ]
  },
  {
   "cell_type": "code",
   "execution_count": 53,
   "id": "3fd19ce0-24cd-4927-a43b-abb2e432cd36",
   "metadata": {
    "id": "3fd19ce0-24cd-4927-a43b-abb2e432cd36"
   },
   "outputs": [],
   "source": [
    "from sklearn.tree import DecisionTreeRegressor\n",
    "dtr = DecisionTreeRegressor(criterion = 'squared_error',random_state = 42,max_depth = 8)\n",
    "dtr = dtr.fit(X_train,y_train)"
   ]
  },
  {
   "cell_type": "code",
   "execution_count": 54,
   "id": "f21afb44-d1e6-4931-8c45-9a4864cea6ea",
   "metadata": {
    "id": "f21afb44-d1e6-4931-8c45-9a4864cea6ea"
   },
   "outputs": [],
   "source": [
    "y_predict = dtr.predict(X_test)"
   ]
  },
  {
   "cell_type": "code",
   "execution_count": 55,
   "id": "550c4757-ef5c-46f6-913b-2358d4dfefa9",
   "metadata": {
    "colab": {
     "base_uri": "https://localhost:8080/"
    },
    "id": "550c4757-ef5c-46f6-913b-2358d4dfefa9",
    "outputId": "96a2444b-089b-44f7-a340-5169a2337623"
   },
   "outputs": [
    {
     "name": "stdout",
     "output_type": "stream",
     "text": [
      "Decision tree training R2 Score 0.9672287284333796\n"
     ]
    }
   ],
   "source": [
    "y_pred_tr = dtr.predict(X_train)\n",
    "print(\"Decision tree training R2 Score\",metrics.r2_score(y_train,y_pred_tr))"
   ]
  },
  {
   "cell_type": "code",
   "execution_count": 56,
   "id": "a02d2806-7c46-4e58-9955-82f9264e6782",
   "metadata": {
    "colab": {
     "base_uri": "https://localhost:8080/"
    },
    "id": "a02d2806-7c46-4e58-9955-82f9264e6782",
    "outputId": "b78893a3-3f72-440d-b02e-4836aa26867d"
   },
   "outputs": [
    {
     "data": {
      "text/plain": [
       "0.9672287284333796"
      ]
     },
     "execution_count": 56,
     "metadata": {},
     "output_type": "execute_result"
    }
   ],
   "source": [
    "dtr.score(X_train,y_train)"
   ]
  },
  {
   "cell_type": "code",
   "execution_count": 57,
   "id": "f8ce7b20-aaf1-4dfc-8d78-7f150047567f",
   "metadata": {
    "id": "f8ce7b20-aaf1-4dfc-8d78-7f150047567f"
   },
   "outputs": [],
   "source": [
    "R_score_1= metrics.r2_score(y_test,y_predict)\n",
    "MSE_1 = metrics.mean_squared_error(y_test,y_predict)\n",
    "MAE_1 = metrics.mean_absolute_error(y_test,y_predict)\n",
    "RMSE_1= math.sqrt(metrics.mean_squared_error(y_test,y_predict))"
   ]
  },
  {
   "cell_type": "code",
   "execution_count": 58,
   "id": "6049e537-73b9-48b6-bbd6-61efa631dda7",
   "metadata": {
    "colab": {
     "base_uri": "https://localhost:8080/",
     "height": 143
    },
    "id": "6049e537-73b9-48b6-bbd6-61efa631dda7",
    "outputId": "65dd955e-b0c5-460b-db86-9115397a8f98"
   },
   "outputs": [
    {
     "data": {
      "text/html": [
       "<div>\n",
       "<style scoped>\n",
       "    .dataframe tbody tr th:only-of-type {\n",
       "        vertical-align: middle;\n",
       "    }\n",
       "\n",
       "    .dataframe tbody tr th {\n",
       "        vertical-align: top;\n",
       "    }\n",
       "\n",
       "    .dataframe thead th {\n",
       "        text-align: right;\n",
       "    }\n",
       "</style>\n",
       "<table border=\"1\" class=\"dataframe\">\n",
       "  <thead>\n",
       "    <tr style=\"text-align: right;\">\n",
       "      <th></th>\n",
       "      <th>Algorithm</th>\n",
       "      <th>R Square</th>\n",
       "      <th>Mean Squared Error</th>\n",
       "      <th>Mean Absolute Error</th>\n",
       "      <th>Root Mean Squared Error</th>\n",
       "    </tr>\n",
       "  </thead>\n",
       "  <tbody>\n",
       "    <tr>\n",
       "      <th>1</th>\n",
       "      <td>Linear Regression</td>\n",
       "      <td>0.575475</td>\n",
       "      <td>6.650444e+06</td>\n",
       "      <td>1373.692828</td>\n",
       "      <td>2578.845565</td>\n",
       "    </tr>\n",
       "    <tr>\n",
       "      <th>2</th>\n",
       "      <td>Multi Linear Regression</td>\n",
       "      <td>0.814232</td>\n",
       "      <td>2.953124e+06</td>\n",
       "      <td>1304.562520</td>\n",
       "      <td>1718.465646</td>\n",
       "    </tr>\n",
       "    <tr>\n",
       "      <th>3</th>\n",
       "      <td>Decission Tress Regressor</td>\n",
       "      <td>0.961923</td>\n",
       "      <td>6.052989e+05</td>\n",
       "      <td>412.722626</td>\n",
       "      <td>778.009561</td>\n",
       "    </tr>\n",
       "  </tbody>\n",
       "</table>\n",
       "</div>"
      ],
      "text/plain": [
       "                   Algorithm  R Square  Mean Squared Error  \\\n",
       "1          Linear Regression  0.575475        6.650444e+06   \n",
       "2    Multi Linear Regression  0.814232        2.953124e+06   \n",
       "3  Decission Tress Regressor  0.961923        6.052989e+05   \n",
       "\n",
       "   Mean Absolute Error  Root Mean Squared Error  \n",
       "1          1373.692828              2578.845565  \n",
       "2          1304.562520              1718.465646  \n",
       "3           412.722626               778.009561  "
      ]
     },
     "execution_count": 58,
     "metadata": {},
     "output_type": "execute_result"
    }
   ],
   "source": [
    "random_2 = pd.DataFrame({'Algorithm':['Decission Tress Regressor'],'R Square':[R_score_1],'Mean Squared Error':[MSE_1],'Mean Absolute Error':[MAE_1],'Root Mean Squared Error':[RMSE_1]},index={'3'})\n",
    "results_2 = pd.concat([results,random_1,random_2])\n",
    "results_2 = results_2[['Algorithm','R Square','Mean Squared Error','Mean Absolute Error','Root Mean Squared Error']]\n",
    "results_2"
   ]
  },
  {
   "cell_type": "code",
   "execution_count": 59,
   "id": "e4673b17-dc49-4d9c-9c06-55c0adc10581",
   "metadata": {
    "colab": {
     "base_uri": "https://localhost:8080/",
     "height": 677
    },
    "id": "e4673b17-dc49-4d9c-9c06-55c0adc10581",
    "outputId": "d4af5a68-66ff-43a1-e091-9a941b5e67fc"
   },
   "outputs": [
    {
     "data": {
      "image/svg+xml": [
       "<?xml version=\"1.0\" encoding=\"UTF-8\" standalone=\"no\"?>\n",
       "<!DOCTYPE svg PUBLIC \"-//W3C//DTD SVG 1.1//EN\"\n",
       " \"http://www.w3.org/Graphics/SVG/1.1/DTD/svg11.dtd\">\n",
       "<!-- Generated by graphviz version 6.0.1 (20220911.1526)\n",
       " -->\n",
       "<!-- Title: Tree Pages: 1 -->\n",
       "<svg width=\"3554pt\" height=\"477pt\"\n",
       " viewBox=\"0.00 0.00 3553.50 477.00\" xmlns=\"http://www.w3.org/2000/svg\" xmlns:xlink=\"http://www.w3.org/1999/xlink\">\n",
       "<g id=\"graph0\" class=\"graph\" transform=\"scale(1 1) rotate(0) translate(4 473)\">\n",
       "<title>Tree</title>\n",
       "<polygon fill=\"white\" stroke=\"none\" points=\"-4,4 -4,-473 3549.5,-473 3549.5,4 -4,4\"/>\n",
       "<!-- 0 -->\n",
       "<g id=\"node1\" class=\"node\">\n",
       "<title>0</title>\n",
       "<path fill=\"#f9e3d3\" stroke=\"black\" d=\"M1840.5,-469C1840.5,-469 1647.5,-469 1647.5,-469 1641.5,-469 1635.5,-463 1635.5,-457 1635.5,-457 1635.5,-413 1635.5,-413 1635.5,-407 1641.5,-401 1647.5,-401 1647.5,-401 1840.5,-401 1840.5,-401 1846.5,-401 1852.5,-407 1852.5,-413 1852.5,-413 1852.5,-457 1852.5,-457 1852.5,-463 1846.5,-469 1840.5,-469\"/>\n",
       "<text text-anchor=\"middle\" x=\"1744\" y=\"-453.8\" font-family=\"Helvetica,sans-Serif\" font-size=\"14.00\">y &lt;= 0.553</text>\n",
       "<text text-anchor=\"middle\" x=\"1744\" y=\"-438.8\" font-family=\"Helvetica,sans-Serif\" font-size=\"14.00\">squared_error = 15919738.744</text>\n",
       "<text text-anchor=\"middle\" x=\"1744\" y=\"-423.8\" font-family=\"Helvetica,sans-Serif\" font-size=\"14.00\">samples = 43152</text>\n",
       "<text text-anchor=\"middle\" x=\"1744\" y=\"-408.8\" font-family=\"Helvetica,sans-Serif\" font-size=\"14.00\">value = 3939.491</text>\n",
       "</g>\n",
       "<!-- 1 -->\n",
       "<g id=\"node2\" class=\"node\">\n",
       "<title>1</title>\n",
       "<path fill=\"#fdf6f1\" stroke=\"black\" d=\"M1388.5,-365C1388.5,-365 1203.5,-365 1203.5,-365 1197.5,-365 1191.5,-359 1191.5,-353 1191.5,-353 1191.5,-309 1191.5,-309 1191.5,-303 1197.5,-297 1203.5,-297 1203.5,-297 1388.5,-297 1388.5,-297 1394.5,-297 1400.5,-303 1400.5,-309 1400.5,-309 1400.5,-353 1400.5,-353 1400.5,-359 1394.5,-365 1388.5,-365\"/>\n",
       "<text text-anchor=\"middle\" x=\"1296\" y=\"-349.8\" font-family=\"Helvetica,sans-Serif\" font-size=\"14.00\">y &lt;= &#45;0.169</text>\n",
       "<text text-anchor=\"middle\" x=\"1296\" y=\"-334.8\" font-family=\"Helvetica,sans-Serif\" font-size=\"14.00\">squared_error = 1725037.158</text>\n",
       "<text text-anchor=\"middle\" x=\"1296\" y=\"-319.8\" font-family=\"Helvetica,sans-Serif\" font-size=\"14.00\">samples = 28718</text>\n",
       "<text text-anchor=\"middle\" x=\"1296\" y=\"-304.8\" font-family=\"Helvetica,sans-Serif\" font-size=\"14.00\">value = 1738.794</text>\n",
       "</g>\n",
       "<!-- 0&#45;&gt;1 -->\n",
       "<g id=\"edge1\" class=\"edge\">\n",
       "<title>0&#45;&gt;1</title>\n",
       "<path fill=\"none\" stroke=\"black\" d=\"M1635.27,-409.24C1567.26,-393.76 1479.77,-373.84 1410.68,-358.11\"/>\n",
       "<polygon fill=\"black\" stroke=\"black\" points=\"1411.15,-354.63 1400.62,-355.82 1409.59,-361.45 1411.15,-354.63\"/>\n",
       "<text text-anchor=\"middle\" x=\"1413.93\" y=\"-373.28\" font-family=\"Helvetica,sans-Serif\" font-size=\"14.00\">True</text>\n",
       "</g>\n",
       "<!-- 16 -->\n",
       "<g id=\"node17\" class=\"node\">\n",
       "<title>16</title>\n",
       "<path fill=\"#f1bd97\" stroke=\"black\" d=\"M2290.5,-365C2290.5,-365 2097.5,-365 2097.5,-365 2091.5,-365 2085.5,-359 2085.5,-353 2085.5,-353 2085.5,-309 2085.5,-309 2085.5,-303 2091.5,-297 2097.5,-297 2097.5,-297 2290.5,-297 2290.5,-297 2296.5,-297 2302.5,-303 2302.5,-309 2302.5,-309 2302.5,-353 2302.5,-353 2302.5,-359 2296.5,-365 2290.5,-365\"/>\n",
       "<text text-anchor=\"middle\" x=\"2194\" y=\"-349.8\" font-family=\"Helvetica,sans-Serif\" font-size=\"14.00\">y &lt;= 1.319</text>\n",
       "<text text-anchor=\"middle\" x=\"2194\" y=\"-334.8\" font-family=\"Helvetica,sans-Serif\" font-size=\"14.00\">squared_error = 15354368.512</text>\n",
       "<text text-anchor=\"middle\" x=\"2194\" y=\"-319.8\" font-family=\"Helvetica,sans-Serif\" font-size=\"14.00\">samples = 14434</text>\n",
       "<text text-anchor=\"middle\" x=\"2194\" y=\"-304.8\" font-family=\"Helvetica,sans-Serif\" font-size=\"14.00\">value = 8318.013</text>\n",
       "</g>\n",
       "<!-- 0&#45;&gt;16 -->\n",
       "<g id=\"edge16\" class=\"edge\">\n",
       "<title>0&#45;&gt;16</title>\n",
       "<path fill=\"none\" stroke=\"black\" d=\"M1852.65,-409.37C1919.83,-394.15 2006.1,-374.59 2075.11,-358.95\"/>\n",
       "<polygon fill=\"black\" stroke=\"black\" points=\"2076.18,-362.3 2085.16,-356.67 2074.63,-355.47 2076.18,-362.3\"/>\n",
       "<text text-anchor=\"middle\" x=\"2071.82\" y=\"-374.12\" font-family=\"Helvetica,sans-Serif\" font-size=\"14.00\">False</text>\n",
       "</g>\n",
       "<!-- 2 -->\n",
       "<g id=\"node3\" class=\"node\">\n",
       "<title>2</title>\n",
       "<path fill=\"#fefcfa\" stroke=\"black\" d=\"M717,-261C717,-261 541,-261 541,-261 535,-261 529,-255 529,-249 529,-249 529,-205 529,-205 529,-199 535,-193 541,-193 541,-193 717,-193 717,-193 723,-193 729,-199 729,-205 729,-205 729,-249 729,-249 729,-255 723,-261 717,-261\"/>\n",
       "<text text-anchor=\"middle\" x=\"629\" y=\"-245.8\" font-family=\"Helvetica,sans-Serif\" font-size=\"14.00\">carat &lt;= &#45;0.714</text>\n",
       "<text text-anchor=\"middle\" x=\"629\" y=\"-230.8\" font-family=\"Helvetica,sans-Serif\" font-size=\"14.00\">squared_error = 280849.825</text>\n",
       "<text text-anchor=\"middle\" x=\"629\" y=\"-215.8\" font-family=\"Helvetica,sans-Serif\" font-size=\"14.00\">samples = 19986</text>\n",
       "<text text-anchor=\"middle\" x=\"629\" y=\"-200.8\" font-family=\"Helvetica,sans-Serif\" font-size=\"14.00\">value = 1063.402</text>\n",
       "</g>\n",
       "<!-- 1&#45;&gt;2 -->\n",
       "<g id=\"edge2\" class=\"edge\">\n",
       "<title>1&#45;&gt;2</title>\n",
       "<path fill=\"none\" stroke=\"black\" d=\"M1191.41,-314.01C1068.26,-295.17 864.63,-264.03 739.12,-244.84\"/>\n",
       "<polygon fill=\"black\" stroke=\"black\" points=\"739.51,-241.36 729.1,-243.31 738.46,-248.28 739.51,-241.36\"/>\n",
       "</g>\n",
       "<!-- 9 -->\n",
       "<g id=\"node10\" class=\"node\">\n",
       "<title>9</title>\n",
       "<path fill=\"#fae8dc\" stroke=\"black\" d=\"M1388.5,-261C1388.5,-261 1203.5,-261 1203.5,-261 1197.5,-261 1191.5,-255 1191.5,-249 1191.5,-249 1191.5,-205 1191.5,-205 1191.5,-199 1197.5,-193 1203.5,-193 1203.5,-193 1388.5,-193 1388.5,-193 1394.5,-193 1400.5,-199 1400.5,-205 1400.5,-205 1400.5,-249 1400.5,-249 1400.5,-255 1394.5,-261 1388.5,-261\"/>\n",
       "<text text-anchor=\"middle\" x=\"1296\" y=\"-245.8\" font-family=\"Helvetica,sans-Serif\" font-size=\"14.00\">carat &lt;= 0.375</text>\n",
       "<text text-anchor=\"middle\" x=\"1296\" y=\"-230.8\" font-family=\"Helvetica,sans-Serif\" font-size=\"14.00\">squared_error = 1596809.388</text>\n",
       "<text text-anchor=\"middle\" x=\"1296\" y=\"-215.8\" font-family=\"Helvetica,sans-Serif\" font-size=\"14.00\">samples = 8732</text>\n",
       "<text text-anchor=\"middle\" x=\"1296\" y=\"-200.8\" font-family=\"Helvetica,sans-Serif\" font-size=\"14.00\">value = 3284.647</text>\n",
       "</g>\n",
       "<!-- 1&#45;&gt;9 -->\n",
       "<g id=\"edge9\" class=\"edge\">\n",
       "<title>1&#45;&gt;9</title>\n",
       "<path fill=\"none\" stroke=\"black\" d=\"M1296,-296.88C1296,-288.78 1296,-279.98 1296,-271.47\"/>\n",
       "<polygon fill=\"black\" stroke=\"black\" points=\"1299.5,-271.3 1296,-261.3 1292.5,-271.3 1299.5,-271.3\"/>\n",
       "</g>\n",
       "<!-- 3 -->\n",
       "<g id=\"node4\" class=\"node\">\n",
       "<title>3</title>\n",
       "<path fill=\"#fffefe\" stroke=\"black\" d=\"M390,-157C390,-157 222,-157 222,-157 216,-157 210,-151 210,-145 210,-145 210,-101 210,-101 210,-95 216,-89 222,-89 222,-89 390,-89 390,-89 396,-89 402,-95 402,-101 402,-101 402,-145 402,-145 402,-151 396,-157 390,-157\"/>\n",
       "<text text-anchor=\"middle\" x=\"306\" y=\"-141.8\" font-family=\"Helvetica,sans-Serif\" font-size=\"14.00\">x &lt;= &#45;0.99</text>\n",
       "<text text-anchor=\"middle\" x=\"306\" y=\"-126.8\" font-family=\"Helvetica,sans-Serif\" font-size=\"14.00\">squared_error = 56016.961</text>\n",
       "<text text-anchor=\"middle\" x=\"306\" y=\"-111.8\" font-family=\"Helvetica,sans-Serif\" font-size=\"14.00\">samples = 13935</text>\n",
       "<text text-anchor=\"middle\" x=\"306\" y=\"-96.8\" font-family=\"Helvetica,sans-Serif\" font-size=\"14.00\">value = 787.478</text>\n",
       "</g>\n",
       "<!-- 2&#45;&gt;3 -->\n",
       "<g id=\"edge3\" class=\"edge\">\n",
       "<title>2&#45;&gt;3</title>\n",
       "<path fill=\"none\" stroke=\"black\" d=\"M528.57,-194.29C491.6,-182.61 449.61,-169.35 412.15,-157.52\"/>\n",
       "<polygon fill=\"black\" stroke=\"black\" points=\"412.81,-154.06 402.22,-154.39 410.7,-160.73 412.81,-154.06\"/>\n",
       "</g>\n",
       "<!-- 6 -->\n",
       "<g id=\"node7\" class=\"node\">\n",
       "<title>6</title>\n",
       "<path fill=\"#fdf6f1\" stroke=\"black\" d=\"M717,-157C717,-157 541,-157 541,-157 535,-157 529,-151 529,-145 529,-145 529,-101 529,-101 529,-95 535,-89 541,-89 541,-89 717,-89 717,-89 723,-89 729,-95 729,-101 729,-101 729,-145 729,-145 729,-151 723,-157 717,-157\"/>\n",
       "<text text-anchor=\"middle\" x=\"629\" y=\"-141.8\" font-family=\"Helvetica,sans-Serif\" font-size=\"14.00\">clarity &lt;= 0.965</text>\n",
       "<text text-anchor=\"middle\" x=\"629\" y=\"-126.8\" font-family=\"Helvetica,sans-Serif\" font-size=\"14.00\">squared_error = 219515.037</text>\n",
       "<text text-anchor=\"middle\" x=\"629\" y=\"-111.8\" font-family=\"Helvetica,sans-Serif\" font-size=\"14.00\">samples = 6051</text>\n",
       "<text text-anchor=\"middle\" x=\"629\" y=\"-96.8\" font-family=\"Helvetica,sans-Serif\" font-size=\"14.00\">value = 1698.836</text>\n",
       "</g>\n",
       "<!-- 2&#45;&gt;6 -->\n",
       "<g id=\"edge6\" class=\"edge\">\n",
       "<title>2&#45;&gt;6</title>\n",
       "<path fill=\"none\" stroke=\"black\" d=\"M629,-192.88C629,-184.78 629,-175.98 629,-167.47\"/>\n",
       "<polygon fill=\"black\" stroke=\"black\" points=\"632.5,-167.3 629,-157.3 625.5,-167.3 632.5,-167.3\"/>\n",
       "</g>\n",
       "<!-- 4 -->\n",
       "<g id=\"node5\" class=\"node\">\n",
       "<title>4</title>\n",
       "<path fill=\"#ffffff\" stroke=\"black\" d=\"M180,-53C180,-53 12,-53 12,-53 6,-53 0,-47 0,-41 0,-41 0,-12 0,-12 0,-6 6,0 12,0 12,0 180,0 180,0 186,0 192,-6 192,-12 192,-12 192,-41 192,-41 192,-47 186,-53 180,-53\"/>\n",
       "<text text-anchor=\"middle\" x=\"96\" y=\"-37.8\" font-family=\"Helvetica,sans-Serif\" font-size=\"14.00\">squared_error = 35585.604</text>\n",
       "<text text-anchor=\"middle\" x=\"96\" y=\"-22.8\" font-family=\"Helvetica,sans-Serif\" font-size=\"14.00\">samples = 9435</text>\n",
       "<text text-anchor=\"middle\" x=\"96\" y=\"-7.8\" font-family=\"Helvetica,sans-Serif\" font-size=\"14.00\">value = 701.224</text>\n",
       "</g>\n",
       "<!-- 3&#45;&gt;4 -->\n",
       "<g id=\"edge4\" class=\"edge\">\n",
       "<title>3&#45;&gt;4</title>\n",
       "<path fill=\"none\" stroke=\"black\" d=\"M232.55,-88.95C209.68,-78.66 184.61,-67.37 162.26,-57.32\"/>\n",
       "<polygon fill=\"black\" stroke=\"black\" points=\"163.41,-54 152.86,-53.09 160.54,-60.38 163.41,-54\"/>\n",
       "</g>\n",
       "<!-- 5 -->\n",
       "<g id=\"node6\" class=\"node\">\n",
       "<title>5</title>\n",
       "<path fill=\"#fffdfb\" stroke=\"black\" d=\"M390,-53C390,-53 222,-53 222,-53 216,-53 210,-47 210,-41 210,-41 210,-12 210,-12 210,-6 216,0 222,0 222,0 390,0 390,0 396,0 402,-6 402,-12 402,-12 402,-41 402,-41 402,-47 396,-53 390,-53\"/>\n",
       "<text text-anchor=\"middle\" x=\"306\" y=\"-37.8\" font-family=\"Helvetica,sans-Serif\" font-size=\"14.00\">squared_error = 50551.648</text>\n",
       "<text text-anchor=\"middle\" x=\"306\" y=\"-22.8\" font-family=\"Helvetica,sans-Serif\" font-size=\"14.00\">samples = 4500</text>\n",
       "<text text-anchor=\"middle\" x=\"306\" y=\"-7.8\" font-family=\"Helvetica,sans-Serif\" font-size=\"14.00\">value = 968.322</text>\n",
       "</g>\n",
       "<!-- 3&#45;&gt;5 -->\n",
       "<g id=\"edge5\" class=\"edge\">\n",
       "<title>3&#45;&gt;5</title>\n",
       "<path fill=\"none\" stroke=\"black\" d=\"M306,-88.95C306,-80.72 306,-71.85 306,-63.48\"/>\n",
       "<polygon fill=\"black\" stroke=\"black\" points=\"309.5,-63.24 306,-53.24 302.5,-63.24 309.5,-63.24\"/>\n",
       "</g>\n",
       "<!-- 7 -->\n",
       "<g id=\"node8\" class=\"node\">\n",
       "<title>7</title>\n",
       "<path fill=\"#fdf7f3\" stroke=\"black\" d=\"M608,-53C608,-53 432,-53 432,-53 426,-53 420,-47 420,-41 420,-41 420,-12 420,-12 420,-6 426,0 432,0 432,0 608,0 608,0 614,0 620,-6 620,-12 620,-12 620,-41 620,-41 620,-47 614,-53 608,-53\"/>\n",
       "<text text-anchor=\"middle\" x=\"520\" y=\"-37.8\" font-family=\"Helvetica,sans-Serif\" font-size=\"14.00\">squared_error = 161782.647</text>\n",
       "<text text-anchor=\"middle\" x=\"520\" y=\"-22.8\" font-family=\"Helvetica,sans-Serif\" font-size=\"14.00\">samples = 4999</text>\n",
       "<text text-anchor=\"middle\" x=\"520\" y=\"-7.8\" font-family=\"Helvetica,sans-Serif\" font-size=\"14.00\">value = 1597.239</text>\n",
       "</g>\n",
       "<!-- 6&#45;&gt;7 -->\n",
       "<g id=\"edge7\" class=\"edge\">\n",
       "<title>6&#45;&gt;7</title>\n",
       "<path fill=\"none\" stroke=\"black\" d=\"M590.88,-88.95C580.01,-79.53 568.18,-69.27 557.36,-59.89\"/>\n",
       "<polygon fill=\"black\" stroke=\"black\" points=\"559.53,-57.14 549.69,-53.24 554.95,-62.43 559.53,-57.14\"/>\n",
       "</g>\n",
       "<!-- 8 -->\n",
       "<g id=\"node9\" class=\"node\">\n",
       "<title>8</title>\n",
       "<path fill=\"#fcf2eb\" stroke=\"black\" d=\"M826,-53C826,-53 650,-53 650,-53 644,-53 638,-47 638,-41 638,-41 638,-12 638,-12 638,-6 644,0 650,0 650,0 826,0 826,0 832,0 838,-6 838,-12 838,-12 838,-41 838,-41 838,-47 832,-53 826,-53\"/>\n",
       "<text text-anchor=\"middle\" x=\"738\" y=\"-37.8\" font-family=\"Helvetica,sans-Serif\" font-size=\"14.00\">squared_error = 211727.195</text>\n",
       "<text text-anchor=\"middle\" x=\"738\" y=\"-22.8\" font-family=\"Helvetica,sans-Serif\" font-size=\"14.00\">samples = 1052</text>\n",
       "<text text-anchor=\"middle\" x=\"738\" y=\"-7.8\" font-family=\"Helvetica,sans-Serif\" font-size=\"14.00\">value = 2181.617</text>\n",
       "</g>\n",
       "<!-- 6&#45;&gt;8 -->\n",
       "<g id=\"edge8\" class=\"edge\">\n",
       "<title>6&#45;&gt;8</title>\n",
       "<path fill=\"none\" stroke=\"black\" d=\"M667.12,-88.95C677.99,-79.53 689.82,-69.27 700.64,-59.89\"/>\n",
       "<polygon fill=\"black\" stroke=\"black\" points=\"703.05,-62.43 708.31,-53.24 698.47,-57.14 703.05,-62.43\"/>\n",
       "</g>\n",
       "<!-- 10 -->\n",
       "<g id=\"node11\" class=\"node\">\n",
       "<title>10</title>\n",
       "<path fill=\"#fbede3\" stroke=\"black\" d=\"M1271,-157C1271,-157 1095,-157 1095,-157 1089,-157 1083,-151 1083,-145 1083,-145 1083,-101 1083,-101 1083,-95 1089,-89 1095,-89 1095,-89 1271,-89 1271,-89 1277,-89 1283,-95 1283,-101 1283,-101 1283,-145 1283,-145 1283,-151 1277,-157 1271,-157\"/>\n",
       "<text text-anchor=\"middle\" x=\"1183\" y=\"-141.8\" font-family=\"Helvetica,sans-Serif\" font-size=\"14.00\">z &lt;= 1.686</text>\n",
       "<text text-anchor=\"middle\" x=\"1183\" y=\"-126.8\" font-family=\"Helvetica,sans-Serif\" font-size=\"14.00\">squared_error = 933019.437</text>\n",
       "<text text-anchor=\"middle\" x=\"1183\" y=\"-111.8\" font-family=\"Helvetica,sans-Serif\" font-size=\"14.00\">samples = 5710</text>\n",
       "<text text-anchor=\"middle\" x=\"1183\" y=\"-96.8\" font-family=\"Helvetica,sans-Serif\" font-size=\"14.00\">value = 2773.815</text>\n",
       "</g>\n",
       "<!-- 9&#45;&gt;10 -->\n",
       "<g id=\"edge10\" class=\"edge\">\n",
       "<title>9&#45;&gt;10</title>\n",
       "<path fill=\"none\" stroke=\"black\" d=\"M1259.31,-192.88C1249.15,-183.71 1238,-173.65 1227.45,-164.12\"/>\n",
       "<polygon fill=\"black\" stroke=\"black\" points=\"1229.66,-161.4 1219.89,-157.3 1224.97,-166.6 1229.66,-161.4\"/>\n",
       "</g>\n",
       "<!-- 13 -->\n",
       "<g id=\"node14\" class=\"node\">\n",
       "<title>13</title>\n",
       "<path fill=\"#f9e0ce\" stroke=\"black\" d=\"M1502.5,-157C1502.5,-157 1317.5,-157 1317.5,-157 1311.5,-157 1305.5,-151 1305.5,-145 1305.5,-145 1305.5,-101 1305.5,-101 1305.5,-95 1311.5,-89 1317.5,-89 1317.5,-89 1502.5,-89 1502.5,-89 1508.5,-89 1514.5,-95 1514.5,-101 1514.5,-101 1514.5,-145 1514.5,-145 1514.5,-151 1508.5,-157 1502.5,-157\"/>\n",
       "<text text-anchor=\"middle\" x=\"1410\" y=\"-141.8\" font-family=\"Helvetica,sans-Serif\" font-size=\"14.00\">clarity &lt;= &#45;0.194</text>\n",
       "<text text-anchor=\"middle\" x=\"1410\" y=\"-126.8\" font-family=\"Helvetica,sans-Serif\" font-size=\"14.00\">squared_error = 1426348.755</text>\n",
       "<text text-anchor=\"middle\" x=\"1410\" y=\"-111.8\" font-family=\"Helvetica,sans-Serif\" font-size=\"14.00\">samples = 3022</text>\n",
       "<text text-anchor=\"middle\" x=\"1410\" y=\"-96.8\" font-family=\"Helvetica,sans-Serif\" font-size=\"14.00\">value = 4249.851</text>\n",
       "</g>\n",
       "<!-- 9&#45;&gt;13 -->\n",
       "<g id=\"edge13\" class=\"edge\">\n",
       "<title>9&#45;&gt;13</title>\n",
       "<path fill=\"none\" stroke=\"black\" d=\"M1333.01,-192.88C1343.27,-183.71 1354.51,-173.65 1365.16,-164.12\"/>\n",
       "<polygon fill=\"black\" stroke=\"black\" points=\"1367.66,-166.58 1372.78,-157.3 1363,-161.36 1367.66,-166.58\"/>\n",
       "</g>\n",
       "<!-- 11 -->\n",
       "<g id=\"node12\" class=\"node\">\n",
       "<title>11</title>\n",
       "<path fill=\"#fbede3\" stroke=\"black\" d=\"M1044,-53C1044,-53 868,-53 868,-53 862,-53 856,-47 856,-41 856,-41 856,-12 856,-12 856,-6 862,0 868,0 868,0 1044,0 1044,0 1050,0 1056,-6 1056,-12 1056,-12 1056,-41 1056,-41 1056,-47 1050,-53 1044,-53\"/>\n",
       "<text text-anchor=\"middle\" x=\"956\" y=\"-37.8\" font-family=\"Helvetica,sans-Serif\" font-size=\"14.00\">squared_error = 683171.663</text>\n",
       "<text text-anchor=\"middle\" x=\"956\" y=\"-22.8\" font-family=\"Helvetica,sans-Serif\" font-size=\"14.00\">samples = 5701</text>\n",
       "<text text-anchor=\"middle\" x=\"956\" y=\"-7.8\" font-family=\"Helvetica,sans-Serif\" font-size=\"14.00\">value = 2755.721</text>\n",
       "</g>\n",
       "<!-- 10&#45;&gt;11 -->\n",
       "<g id=\"edge11\" class=\"edge\">\n",
       "<title>10&#45;&gt;11</title>\n",
       "<path fill=\"none\" stroke=\"black\" d=\"M1103.61,-88.95C1078.66,-78.56 1051.3,-67.17 1026.97,-57.05\"/>\n",
       "<polygon fill=\"black\" stroke=\"black\" points=\"1028.04,-53.7 1017.46,-53.09 1025.35,-60.16 1028.04,-53.7\"/>\n",
       "</g>\n",
       "<!-- 12 -->\n",
       "<g id=\"node13\" class=\"node\">\n",
       "<title>12</title>\n",
       "<path fill=\"#e78945\" stroke=\"black\" d=\"M1279.5,-53C1279.5,-53 1086.5,-53 1086.5,-53 1080.5,-53 1074.5,-47 1074.5,-41 1074.5,-41 1074.5,-12 1074.5,-12 1074.5,-6 1080.5,0 1086.5,0 1086.5,0 1279.5,0 1279.5,0 1285.5,0 1291.5,-6 1291.5,-12 1291.5,-12 1291.5,-41 1291.5,-41 1291.5,-47 1285.5,-53 1279.5,-53\"/>\n",
       "<text text-anchor=\"middle\" x=\"1183\" y=\"-37.8\" font-family=\"Helvetica,sans-Serif\" font-size=\"14.00\">squared_error = 27616273.778</text>\n",
       "<text text-anchor=\"middle\" x=\"1183\" y=\"-22.8\" font-family=\"Helvetica,sans-Serif\" font-size=\"14.00\">samples = 9</text>\n",
       "<text text-anchor=\"middle\" x=\"1183\" y=\"-7.8\" font-family=\"Helvetica,sans-Serif\" font-size=\"14.00\">value = 14235.667</text>\n",
       "</g>\n",
       "<!-- 10&#45;&gt;12 -->\n",
       "<g id=\"edge12\" class=\"edge\">\n",
       "<title>10&#45;&gt;12</title>\n",
       "<path fill=\"none\" stroke=\"black\" d=\"M1183,-88.95C1183,-80.72 1183,-71.85 1183,-63.48\"/>\n",
       "<polygon fill=\"black\" stroke=\"black\" points=\"1186.5,-63.24 1183,-53.24 1179.5,-63.24 1186.5,-63.24\"/>\n",
       "</g>\n",
       "<!-- 14 -->\n",
       "<g id=\"node15\" class=\"node\">\n",
       "<title>14</title>\n",
       "<path fill=\"#f9e3d3\" stroke=\"black\" d=\"M1498,-53C1498,-53 1322,-53 1322,-53 1316,-53 1310,-47 1310,-41 1310,-41 1310,-12 1310,-12 1310,-6 1316,0 1322,0 1322,0 1498,0 1498,0 1504,0 1510,-6 1510,-12 1510,-12 1510,-41 1510,-41 1510,-47 1504,-53 1498,-53\"/>\n",
       "<text text-anchor=\"middle\" x=\"1410\" y=\"-37.8\" font-family=\"Helvetica,sans-Serif\" font-size=\"14.00\">squared_error = 887748.776</text>\n",
       "<text text-anchor=\"middle\" x=\"1410\" y=\"-22.8\" font-family=\"Helvetica,sans-Serif\" font-size=\"14.00\">samples = 1961</text>\n",
       "<text text-anchor=\"middle\" x=\"1410\" y=\"-7.8\" font-family=\"Helvetica,sans-Serif\" font-size=\"14.00\">value = 3898.346</text>\n",
       "</g>\n",
       "<!-- 13&#45;&gt;14 -->\n",
       "<g id=\"edge14\" class=\"edge\">\n",
       "<title>13&#45;&gt;14</title>\n",
       "<path fill=\"none\" stroke=\"black\" d=\"M1410,-88.95C1410,-80.72 1410,-71.85 1410,-63.48\"/>\n",
       "<polygon fill=\"black\" stroke=\"black\" points=\"1413.5,-63.24 1410,-53.24 1406.5,-63.24 1413.5,-63.24\"/>\n",
       "</g>\n",
       "<!-- 15 -->\n",
       "<g id=\"node16\" class=\"node\">\n",
       "<title>15</title>\n",
       "<path fill=\"#f7dac5\" stroke=\"black\" d=\"M1725.5,-53C1725.5,-53 1540.5,-53 1540.5,-53 1534.5,-53 1528.5,-47 1528.5,-41 1528.5,-41 1528.5,-12 1528.5,-12 1528.5,-6 1534.5,0 1540.5,0 1540.5,0 1725.5,0 1725.5,0 1731.5,0 1737.5,-6 1737.5,-12 1737.5,-12 1737.5,-41 1737.5,-41 1737.5,-47 1731.5,-53 1725.5,-53\"/>\n",
       "<text text-anchor=\"middle\" x=\"1633\" y=\"-37.8\" font-family=\"Helvetica,sans-Serif\" font-size=\"14.00\">squared_error = 1771383.364</text>\n",
       "<text text-anchor=\"middle\" x=\"1633\" y=\"-22.8\" font-family=\"Helvetica,sans-Serif\" font-size=\"14.00\">samples = 1061</text>\n",
       "<text text-anchor=\"middle\" x=\"1633\" y=\"-7.8\" font-family=\"Helvetica,sans-Serif\" font-size=\"14.00\">value = 4899.523</text>\n",
       "</g>\n",
       "<!-- 13&#45;&gt;15 -->\n",
       "<g id=\"edge15\" class=\"edge\">\n",
       "<title>13&#45;&gt;15</title>\n",
       "<path fill=\"none\" stroke=\"black\" d=\"M1487.99,-88.95C1512.5,-78.56 1539.38,-67.17 1563.28,-57.05\"/>\n",
       "<polygon fill=\"black\" stroke=\"black\" points=\"1564.78,-60.21 1572.62,-53.09 1562.05,-53.77 1564.78,-60.21\"/>\n",
       "</g>\n",
       "<!-- 17 -->\n",
       "<g id=\"node18\" class=\"node\">\n",
       "<title>17</title>\n",
       "<path fill=\"#f5ceb3\" stroke=\"black\" d=\"M2286.5,-261C2286.5,-261 2101.5,-261 2101.5,-261 2095.5,-261 2089.5,-255 2089.5,-249 2089.5,-249 2089.5,-205 2089.5,-205 2089.5,-199 2095.5,-193 2101.5,-193 2101.5,-193 2286.5,-193 2286.5,-193 2292.5,-193 2298.5,-199 2298.5,-205 2298.5,-205 2298.5,-249 2298.5,-249 2298.5,-255 2292.5,-261 2286.5,-261\"/>\n",
       "<text text-anchor=\"middle\" x=\"2194\" y=\"-245.8\" font-family=\"Helvetica,sans-Serif\" font-size=\"14.00\">clarity &lt;= &#45;0.194</text>\n",
       "<text text-anchor=\"middle\" x=\"2194\" y=\"-230.8\" font-family=\"Helvetica,sans-Serif\" font-size=\"14.00\">squared_error = 4800494.739</text>\n",
       "<text text-anchor=\"middle\" x=\"2194\" y=\"-215.8\" font-family=\"Helvetica,sans-Serif\" font-size=\"14.00\">samples = 9518</text>\n",
       "<text text-anchor=\"middle\" x=\"2194\" y=\"-200.8\" font-family=\"Helvetica,sans-Serif\" font-size=\"14.00\">value = 6257.928</text>\n",
       "</g>\n",
       "<!-- 16&#45;&gt;17 -->\n",
       "<g id=\"edge17\" class=\"edge\">\n",
       "<title>16&#45;&gt;17</title>\n",
       "<path fill=\"none\" stroke=\"black\" d=\"M2194,-296.88C2194,-288.78 2194,-279.98 2194,-271.47\"/>\n",
       "<polygon fill=\"black\" stroke=\"black\" points=\"2197.5,-271.3 2194,-261.3 2190.5,-271.3 2197.5,-271.3\"/>\n",
       "</g>\n",
       "<!-- 24 -->\n",
       "<g id=\"node25\" class=\"node\">\n",
       "<title>24</title>\n",
       "<path fill=\"#ea9a60\" stroke=\"black\" d=\"M2969.5,-261C2969.5,-261 2776.5,-261 2776.5,-261 2770.5,-261 2764.5,-255 2764.5,-249 2764.5,-249 2764.5,-205 2764.5,-205 2764.5,-199 2770.5,-193 2776.5,-193 2776.5,-193 2969.5,-193 2969.5,-193 2975.5,-193 2981.5,-199 2981.5,-205 2981.5,-205 2981.5,-249 2981.5,-249 2981.5,-255 2975.5,-261 2969.5,-261\"/>\n",
       "<text text-anchor=\"middle\" x=\"2873\" y=\"-245.8\" font-family=\"Helvetica,sans-Serif\" font-size=\"14.00\">y &lt;= 1.878</text>\n",
       "<text text-anchor=\"middle\" x=\"2873\" y=\"-230.8\" font-family=\"Helvetica,sans-Serif\" font-size=\"14.00\">squared_error = 11662348.268</text>\n",
       "<text text-anchor=\"middle\" x=\"2873\" y=\"-215.8\" font-family=\"Helvetica,sans-Serif\" font-size=\"14.00\">samples = 4916</text>\n",
       "<text text-anchor=\"middle\" x=\"2873\" y=\"-200.8\" font-family=\"Helvetica,sans-Serif\" font-size=\"14.00\">value = 12306.601</text>\n",
       "</g>\n",
       "<!-- 16&#45;&gt;24 -->\n",
       "<g id=\"edge24\" class=\"edge\">\n",
       "<title>16&#45;&gt;24</title>\n",
       "<path fill=\"none\" stroke=\"black\" d=\"M2302.72,-313.67C2426.1,-295.13 2626.7,-265 2754.14,-245.86\"/>\n",
       "<polygon fill=\"black\" stroke=\"black\" points=\"2754.96,-249.27 2764.33,-244.32 2753.92,-242.35 2754.96,-249.27\"/>\n",
       "</g>\n",
       "<!-- 18 -->\n",
       "<g id=\"node19\" class=\"node\">\n",
       "<title>18</title>\n",
       "<path fill=\"#f7d7c1\" stroke=\"black\" d=\"M2173.5,-157C2173.5,-157 1988.5,-157 1988.5,-157 1982.5,-157 1976.5,-151 1976.5,-145 1976.5,-145 1976.5,-101 1976.5,-101 1976.5,-95 1982.5,-89 1988.5,-89 1988.5,-89 2173.5,-89 2173.5,-89 2179.5,-89 2185.5,-95 2185.5,-101 2185.5,-101 2185.5,-145 2185.5,-145 2185.5,-151 2179.5,-157 2173.5,-157\"/>\n",
       "<text text-anchor=\"middle\" x=\"2081\" y=\"-141.8\" font-family=\"Helvetica,sans-Serif\" font-size=\"14.00\">y &lt;= 0.949</text>\n",
       "<text text-anchor=\"middle\" x=\"2081\" y=\"-126.8\" font-family=\"Helvetica,sans-Serif\" font-size=\"14.00\">squared_error = 2689652.091</text>\n",
       "<text text-anchor=\"middle\" x=\"2081\" y=\"-111.8\" font-family=\"Helvetica,sans-Serif\" font-size=\"14.00\">samples = 5350</text>\n",
       "<text text-anchor=\"middle\" x=\"2081\" y=\"-96.8\" font-family=\"Helvetica,sans-Serif\" font-size=\"14.00\">value = 5228.765</text>\n",
       "</g>\n",
       "<!-- 17&#45;&gt;18 -->\n",
       "<g id=\"edge18\" class=\"edge\">\n",
       "<title>17&#45;&gt;18</title>\n",
       "<path fill=\"none\" stroke=\"black\" d=\"M2157.31,-192.88C2147.15,-183.71 2136,-173.65 2125.45,-164.12\"/>\n",
       "<polygon fill=\"black\" stroke=\"black\" points=\"2127.66,-161.4 2117.89,-157.3 2122.97,-166.6 2127.66,-161.4\"/>\n",
       "</g>\n",
       "<!-- 21 -->\n",
       "<g id=\"node22\" class=\"node\">\n",
       "<title>21</title>\n",
       "<path fill=\"#f3c3a1\" stroke=\"black\" d=\"M2400.5,-157C2400.5,-157 2215.5,-157 2215.5,-157 2209.5,-157 2203.5,-151 2203.5,-145 2203.5,-145 2203.5,-101 2203.5,-101 2203.5,-95 2209.5,-89 2215.5,-89 2215.5,-89 2400.5,-89 2400.5,-89 2406.5,-89 2412.5,-95 2412.5,-101 2412.5,-101 2412.5,-145 2412.5,-145 2412.5,-151 2406.5,-157 2400.5,-157\"/>\n",
       "<text text-anchor=\"middle\" x=\"2308\" y=\"-141.8\" font-family=\"Helvetica,sans-Serif\" font-size=\"14.00\">clarity &lt;= 0.965</text>\n",
       "<text text-anchor=\"middle\" x=\"2308\" y=\"-126.8\" font-family=\"Helvetica,sans-Serif\" font-size=\"14.00\">squared_error = 4405300.617</text>\n",
       "<text text-anchor=\"middle\" x=\"2308\" y=\"-111.8\" font-family=\"Helvetica,sans-Serif\" font-size=\"14.00\">samples = 4168</text>\n",
       "<text text-anchor=\"middle\" x=\"2308\" y=\"-96.8\" font-family=\"Helvetica,sans-Serif\" font-size=\"14.00\">value = 7578.951</text>\n",
       "</g>\n",
       "<!-- 17&#45;&gt;21 -->\n",
       "<g id=\"edge21\" class=\"edge\">\n",
       "<title>17&#45;&gt;21</title>\n",
       "<path fill=\"none\" stroke=\"black\" d=\"M2231.01,-192.88C2241.27,-183.71 2252.51,-173.65 2263.16,-164.12\"/>\n",
       "<polygon fill=\"black\" stroke=\"black\" points=\"2265.66,-166.58 2270.78,-157.3 2261,-161.36 2265.66,-166.58\"/>\n",
       "</g>\n",
       "<!-- 19 -->\n",
       "<g id=\"node20\" class=\"node\">\n",
       "<title>19</title>\n",
       "<path fill=\"#f7dbc6\" stroke=\"black\" d=\"M1952.5,-53C1952.5,-53 1767.5,-53 1767.5,-53 1761.5,-53 1755.5,-47 1755.5,-41 1755.5,-41 1755.5,-12 1755.5,-12 1755.5,-6 1761.5,0 1767.5,0 1767.5,0 1952.5,0 1952.5,0 1958.5,0 1964.5,-6 1964.5,-12 1964.5,-12 1964.5,-41 1964.5,-41 1964.5,-47 1958.5,-53 1952.5,-53\"/>\n",
       "<text text-anchor=\"middle\" x=\"1860\" y=\"-37.8\" font-family=\"Helvetica,sans-Serif\" font-size=\"14.00\">squared_error = 1975910.457</text>\n",
       "<text text-anchor=\"middle\" x=\"1860\" y=\"-22.8\" font-family=\"Helvetica,sans-Serif\" font-size=\"14.00\">samples = 3962</text>\n",
       "<text text-anchor=\"middle\" x=\"1860\" y=\"-7.8\" font-family=\"Helvetica,sans-Serif\" font-size=\"14.00\">value = 4880.03</text>\n",
       "</g>\n",
       "<!-- 18&#45;&gt;19 -->\n",
       "<g id=\"edge19\" class=\"edge\">\n",
       "<title>18&#45;&gt;19</title>\n",
       "<path fill=\"none\" stroke=\"black\" d=\"M2003.7,-88.95C1979.42,-78.56 1952.78,-67.17 1929.1,-57.05\"/>\n",
       "<polygon fill=\"black\" stroke=\"black\" points=\"1930.41,-53.8 1919.84,-53.09 1927.66,-60.24 1930.41,-53.8\"/>\n",
       "</g>\n",
       "<!-- 20 -->\n",
       "<g id=\"node21\" class=\"node\">\n",
       "<title>20</title>\n",
       "<path fill=\"#f5cfb3\" stroke=\"black\" d=\"M2171,-53C2171,-53 1995,-53 1995,-53 1989,-53 1983,-47 1983,-41 1983,-41 1983,-12 1983,-12 1983,-6 1989,0 1995,0 1995,0 2171,0 2171,0 2177,0 2183,-6 2183,-12 2183,-12 2183,-41 2183,-41 2183,-47 2177,-53 2171,-53\"/>\n",
       "<text text-anchor=\"middle\" x=\"2083\" y=\"-37.8\" font-family=\"Helvetica,sans-Serif\" font-size=\"14.00\">squared_error = 3388929.97</text>\n",
       "<text text-anchor=\"middle\" x=\"2083\" y=\"-22.8\" font-family=\"Helvetica,sans-Serif\" font-size=\"14.00\">samples = 1388</text>\n",
       "<text text-anchor=\"middle\" x=\"2083\" y=\"-7.8\" font-family=\"Helvetica,sans-Serif\" font-size=\"14.00\">value = 6224.217</text>\n",
       "</g>\n",
       "<!-- 18&#45;&gt;20 -->\n",
       "<g id=\"edge20\" class=\"edge\">\n",
       "<title>18&#45;&gt;20</title>\n",
       "<path fill=\"none\" stroke=\"black\" d=\"M2081.7,-88.95C2081.87,-80.72 2082.06,-71.85 2082.24,-63.48\"/>\n",
       "<polygon fill=\"black\" stroke=\"black\" points=\"2085.74,-63.31 2082.46,-53.24 2078.74,-63.16 2085.74,-63.31\"/>\n",
       "</g>\n",
       "<!-- 22 -->\n",
       "<g id=\"node23\" class=\"node\">\n",
       "<title>22</title>\n",
       "<path fill=\"#f4c8a9\" stroke=\"black\" d=\"M2398.5,-53C2398.5,-53 2213.5,-53 2213.5,-53 2207.5,-53 2201.5,-47 2201.5,-41 2201.5,-41 2201.5,-12 2201.5,-12 2201.5,-6 2207.5,0 2213.5,0 2213.5,0 2398.5,0 2398.5,0 2404.5,0 2410.5,-6 2410.5,-12 2410.5,-12 2410.5,-41 2410.5,-41 2410.5,-47 2404.5,-53 2398.5,-53\"/>\n",
       "<text text-anchor=\"middle\" x=\"2306\" y=\"-37.8\" font-family=\"Helvetica,sans-Serif\" font-size=\"14.00\">squared_error = 2722708.378</text>\n",
       "<text text-anchor=\"middle\" x=\"2306\" y=\"-22.8\" font-family=\"Helvetica,sans-Serif\" font-size=\"14.00\">samples = 3228</text>\n",
       "<text text-anchor=\"middle\" x=\"2306\" y=\"-7.8\" font-family=\"Helvetica,sans-Serif\" font-size=\"14.00\">value = 6983.644</text>\n",
       "</g>\n",
       "<!-- 21&#45;&gt;22 -->\n",
       "<g id=\"edge22\" class=\"edge\">\n",
       "<title>21&#45;&gt;22</title>\n",
       "<path fill=\"none\" stroke=\"black\" d=\"M2307.3,-88.95C2307.13,-80.72 2306.94,-71.85 2306.76,-63.48\"/>\n",
       "<polygon fill=\"black\" stroke=\"black\" points=\"2310.26,-63.16 2306.54,-53.24 2303.26,-63.31 2310.26,-63.16\"/>\n",
       "</g>\n",
       "<!-- 23 -->\n",
       "<g id=\"node24\" class=\"node\">\n",
       "<title>23</title>\n",
       "<path fill=\"#efb185\" stroke=\"black\" d=\"M2625.5,-53C2625.5,-53 2440.5,-53 2440.5,-53 2434.5,-53 2428.5,-47 2428.5,-41 2428.5,-41 2428.5,-12 2428.5,-12 2428.5,-6 2434.5,0 2440.5,0 2440.5,0 2625.5,0 2625.5,0 2631.5,0 2637.5,-6 2637.5,-12 2637.5,-12 2637.5,-41 2637.5,-41 2637.5,-47 2631.5,-53 2625.5,-53\"/>\n",
       "<text text-anchor=\"middle\" x=\"2533\" y=\"-37.8\" font-family=\"Helvetica,sans-Serif\" font-size=\"14.00\">squared_error = 4787209.183</text>\n",
       "<text text-anchor=\"middle\" x=\"2533\" y=\"-22.8\" font-family=\"Helvetica,sans-Serif\" font-size=\"14.00\">samples = 940</text>\n",
       "<text text-anchor=\"middle\" x=\"2533\" y=\"-7.8\" font-family=\"Helvetica,sans-Serif\" font-size=\"14.00\">value = 9623.259</text>\n",
       "</g>\n",
       "<!-- 21&#45;&gt;23 -->\n",
       "<g id=\"edge23\" class=\"edge\">\n",
       "<title>21&#45;&gt;23</title>\n",
       "<path fill=\"none\" stroke=\"black\" d=\"M2386.69,-88.95C2411.42,-78.56 2438.54,-67.17 2462.65,-57.05\"/>\n",
       "<polygon fill=\"black\" stroke=\"black\" points=\"2464.21,-60.19 2472.08,-53.09 2461.5,-53.73 2464.21,-60.19\"/>\n",
       "</g>\n",
       "<!-- 25 -->\n",
       "<g id=\"node26\" class=\"node\">\n",
       "<title>25</title>\n",
       "<path fill=\"#eda673\" stroke=\"black\" d=\"M2965.5,-157C2965.5,-157 2780.5,-157 2780.5,-157 2774.5,-157 2768.5,-151 2768.5,-145 2768.5,-145 2768.5,-101 2768.5,-101 2768.5,-95 2774.5,-89 2780.5,-89 2780.5,-89 2965.5,-89 2965.5,-89 2971.5,-89 2977.5,-95 2977.5,-101 2977.5,-101 2977.5,-145 2977.5,-145 2977.5,-151 2971.5,-157 2965.5,-157\"/>\n",
       "<text text-anchor=\"middle\" x=\"2873\" y=\"-141.8\" font-family=\"Helvetica,sans-Serif\" font-size=\"14.00\">color &lt;= 0.532</text>\n",
       "<text text-anchor=\"middle\" x=\"2873\" y=\"-126.8\" font-family=\"Helvetica,sans-Serif\" font-size=\"14.00\">squared_error = 8486408.715</text>\n",
       "<text text-anchor=\"middle\" x=\"2873\" y=\"-111.8\" font-family=\"Helvetica,sans-Serif\" font-size=\"14.00\">samples = 3169</text>\n",
       "<text text-anchor=\"middle\" x=\"2873\" y=\"-96.8\" font-family=\"Helvetica,sans-Serif\" font-size=\"14.00\">value = 10895.658</text>\n",
       "</g>\n",
       "<!-- 24&#45;&gt;25 -->\n",
       "<g id=\"edge25\" class=\"edge\">\n",
       "<title>24&#45;&gt;25</title>\n",
       "<path fill=\"none\" stroke=\"black\" d=\"M2873,-192.88C2873,-184.78 2873,-175.98 2873,-167.47\"/>\n",
       "<polygon fill=\"black\" stroke=\"black\" points=\"2876.5,-167.3 2873,-157.3 2869.5,-167.3 2876.5,-167.3\"/>\n",
       "</g>\n",
       "<!-- 28 -->\n",
       "<g id=\"node29\" class=\"node\">\n",
       "<title>28</title>\n",
       "<path fill=\"#e5833d\" stroke=\"black\" d=\"M3302,-157C3302,-157 3126,-157 3126,-157 3120,-157 3114,-151 3114,-145 3114,-145 3114,-101 3114,-101 3114,-95 3120,-89 3126,-89 3126,-89 3302,-89 3302,-89 3308,-89 3314,-95 3314,-101 3314,-101 3314,-145 3314,-145 3314,-151 3308,-157 3302,-157\"/>\n",
       "<text text-anchor=\"middle\" x=\"3214\" y=\"-141.8\" font-family=\"Helvetica,sans-Serif\" font-size=\"14.00\">clarity &lt;= &#45;1.934</text>\n",
       "<text text-anchor=\"middle\" x=\"3214\" y=\"-126.8\" font-family=\"Helvetica,sans-Serif\" font-size=\"14.00\">squared_error = 7261680.28</text>\n",
       "<text text-anchor=\"middle\" x=\"3214\" y=\"-111.8\" font-family=\"Helvetica,sans-Serif\" font-size=\"14.00\">samples = 1747</text>\n",
       "<text text-anchor=\"middle\" x=\"3214\" y=\"-96.8\" font-family=\"Helvetica,sans-Serif\" font-size=\"14.00\">value = 14866.004</text>\n",
       "</g>\n",
       "<!-- 24&#45;&gt;28 -->\n",
       "<g id=\"edge28\" class=\"edge\">\n",
       "<title>24&#45;&gt;28</title>\n",
       "<path fill=\"none\" stroke=\"black\" d=\"M2981.83,-193.45C3020.82,-181.78 3064.79,-168.63 3103.89,-156.94\"/>\n",
       "<polygon fill=\"black\" stroke=\"black\" points=\"3105.14,-160.22 3113.72,-154 3103.13,-153.51 3105.14,-160.22\"/>\n",
       "</g>\n",
       "<!-- 26 -->\n",
       "<g id=\"node27\" class=\"node\">\n",
       "<title>26</title>\n",
       "<path fill=\"#ea9a61\" stroke=\"black\" d=\"M2852.5,-53C2852.5,-53 2667.5,-53 2667.5,-53 2661.5,-53 2655.5,-47 2655.5,-41 2655.5,-41 2655.5,-12 2655.5,-12 2655.5,-6 2661.5,0 2667.5,0 2667.5,0 2852.5,0 2852.5,0 2858.5,0 2864.5,-6 2864.5,-12 2864.5,-12 2864.5,-41 2864.5,-41 2864.5,-47 2858.5,-53 2852.5,-53\"/>\n",
       "<text text-anchor=\"middle\" x=\"2760\" y=\"-37.8\" font-family=\"Helvetica,sans-Serif\" font-size=\"14.00\">squared_error = 9029469.775</text>\n",
       "<text text-anchor=\"middle\" x=\"2760\" y=\"-22.8\" font-family=\"Helvetica,sans-Serif\" font-size=\"14.00\">samples = 1591</text>\n",
       "<text text-anchor=\"middle\" x=\"2760\" y=\"-7.8\" font-family=\"Helvetica,sans-Serif\" font-size=\"14.00\">value = 12238.214</text>\n",
       "</g>\n",
       "<!-- 25&#45;&gt;26 -->\n",
       "<g id=\"edge26\" class=\"edge\">\n",
       "<title>25&#45;&gt;26</title>\n",
       "<path fill=\"none\" stroke=\"black\" d=\"M2833.48,-88.95C2822.21,-79.53 2809.95,-69.27 2798.73,-59.89\"/>\n",
       "<polygon fill=\"black\" stroke=\"black\" points=\"2800.69,-56.97 2790.78,-53.24 2796.2,-62.34 2800.69,-56.97\"/>\n",
       "</g>\n",
       "<!-- 27 -->\n",
       "<g id=\"node28\" class=\"node\">\n",
       "<title>27</title>\n",
       "<path fill=\"#efb286\" stroke=\"black\" d=\"M3079.5,-53C3079.5,-53 2894.5,-53 2894.5,-53 2888.5,-53 2882.5,-47 2882.5,-41 2882.5,-41 2882.5,-12 2882.5,-12 2882.5,-6 2888.5,0 2894.5,0 2894.5,0 3079.5,0 3079.5,0 3085.5,0 3091.5,-6 3091.5,-12 3091.5,-12 3091.5,-41 3091.5,-41 3091.5,-47 3085.5,-53 3079.5,-53\"/>\n",
       "<text text-anchor=\"middle\" x=\"2987\" y=\"-37.8\" font-family=\"Helvetica,sans-Serif\" font-size=\"14.00\">squared_error = 4289288.659</text>\n",
       "<text text-anchor=\"middle\" x=\"2987\" y=\"-22.8\" font-family=\"Helvetica,sans-Serif\" font-size=\"14.00\">samples = 1578</text>\n",
       "<text text-anchor=\"middle\" x=\"2987\" y=\"-7.8\" font-family=\"Helvetica,sans-Serif\" font-size=\"14.00\">value = 9542.041</text>\n",
       "</g>\n",
       "<!-- 25&#45;&gt;27 -->\n",
       "<g id=\"edge27\" class=\"edge\">\n",
       "<title>25&#45;&gt;27</title>\n",
       "<path fill=\"none\" stroke=\"black\" d=\"M2912.87,-88.95C2924.24,-79.53 2936.61,-69.27 2947.93,-59.89\"/>\n",
       "<polygon fill=\"black\" stroke=\"black\" points=\"2950.49,-62.31 2955.95,-53.24 2946.02,-56.92 2950.49,-62.31\"/>\n",
       "</g>\n",
       "<!-- 29 -->\n",
       "<g id=\"node30\" class=\"node\">\n",
       "<title>29</title>\n",
       "<path fill=\"#f2be99\" stroke=\"black\" d=\"M3306.5,-53C3306.5,-53 3121.5,-53 3121.5,-53 3115.5,-53 3109.5,-47 3109.5,-41 3109.5,-41 3109.5,-12 3109.5,-12 3109.5,-6 3115.5,0 3121.5,0 3121.5,0 3306.5,0 3306.5,0 3312.5,0 3318.5,-6 3318.5,-12 3318.5,-12 3318.5,-41 3318.5,-41 3318.5,-47 3312.5,-53 3306.5,-53\"/>\n",
       "<text text-anchor=\"middle\" x=\"3214\" y=\"-37.8\" font-family=\"Helvetica,sans-Serif\" font-size=\"14.00\">squared_error = 4213273.411</text>\n",
       "<text text-anchor=\"middle\" x=\"3214\" y=\"-22.8\" font-family=\"Helvetica,sans-Serif\" font-size=\"14.00\">samples = 67</text>\n",
       "<text text-anchor=\"middle\" x=\"3214\" y=\"-7.8\" font-family=\"Helvetica,sans-Serif\" font-size=\"14.00\">value = 8114.851</text>\n",
       "</g>\n",
       "<!-- 28&#45;&gt;29 -->\n",
       "<g id=\"edge29\" class=\"edge\">\n",
       "<title>28&#45;&gt;29</title>\n",
       "<path fill=\"none\" stroke=\"black\" d=\"M3214,-88.95C3214,-80.72 3214,-71.85 3214,-63.48\"/>\n",
       "<polygon fill=\"black\" stroke=\"black\" points=\"3217.5,-63.24 3214,-53.24 3210.5,-63.24 3217.5,-63.24\"/>\n",
       "</g>\n",
       "<!-- 30 -->\n",
       "<g id=\"node31\" class=\"node\">\n",
       "<title>30</title>\n",
       "<path fill=\"#e58139\" stroke=\"black\" d=\"M3533.5,-53C3533.5,-53 3348.5,-53 3348.5,-53 3342.5,-53 3336.5,-47 3336.5,-41 3336.5,-41 3336.5,-12 3336.5,-12 3336.5,-6 3342.5,0 3348.5,0 3348.5,0 3533.5,0 3533.5,0 3539.5,0 3545.5,-6 3545.5,-12 3545.5,-12 3545.5,-41 3545.5,-41 3545.5,-47 3539.5,-53 3533.5,-53\"/>\n",
       "<text text-anchor=\"middle\" x=\"3441\" y=\"-37.8\" font-family=\"Helvetica,sans-Serif\" font-size=\"14.00\">squared_error = 5493065.314</text>\n",
       "<text text-anchor=\"middle\" x=\"3441\" y=\"-22.8\" font-family=\"Helvetica,sans-Serif\" font-size=\"14.00\">samples = 1680</text>\n",
       "<text text-anchor=\"middle\" x=\"3441\" y=\"-7.8\" font-family=\"Helvetica,sans-Serif\" font-size=\"14.00\">value = 15135.246</text>\n",
       "</g>\n",
       "<!-- 28&#45;&gt;30 -->\n",
       "<g id=\"edge30\" class=\"edge\">\n",
       "<title>28&#45;&gt;30</title>\n",
       "<path fill=\"none\" stroke=\"black\" d=\"M3293.39,-88.95C3318.34,-78.56 3345.7,-67.17 3370.03,-57.05\"/>\n",
       "<polygon fill=\"black\" stroke=\"black\" points=\"3371.65,-60.16 3379.54,-53.09 3368.96,-53.7 3371.65,-60.16\"/>\n",
       "</g>\n",
       "</g>\n",
       "</svg>\n"
      ],
      "text/plain": [
       "<graphviz.sources.Source at 0x16270bc4460>"
      ]
     },
     "execution_count": 59,
     "metadata": {},
     "output_type": "execute_result"
    }
   ],
   "source": [
    "#Visualization of the decision graph :\n",
    "from sklearn import tree\n",
    "dtree = tree.DecisionTreeRegressor(criterion='squared_error',max_depth = 4, random_state=42)\n",
    "dtree.fit(X_train, y_train)\n",
    "import graphviz\n",
    "from sklearn import tree\n",
    "feature_names = X.columns\n",
    "\n",
    "dot_data = tree.export_graphviz(dtree, out_file=None, filled=True, rounded=True,feature_names=feature_names)\n",
    "graph = graphviz.Source(dot_data)  \n",
    "graph"
   ]
  },
  {
   "cell_type": "markdown",
   "id": "60197d57-3134-4e3c-a635-d8dce25dfe9a",
   "metadata": {
    "id": "60197d57-3134-4e3c-a635-d8dce25dfe9a"
   },
   "source": [
    "# Random Forest Regressor Analysis"
   ]
  },
  {
   "cell_type": "code",
   "execution_count": 60,
   "id": "cfefd873-2dd1-4b77-b6dc-aa4143c33ce5",
   "metadata": {
    "colab": {
     "base_uri": "https://localhost:8080/"
    },
    "id": "cfefd873-2dd1-4b77-b6dc-aa4143c33ce5",
    "outputId": "0ecaba9e-c6b2-412f-8a5b-f590c4874e46"
   },
   "outputs": [
    {
     "data": {
      "text/plain": [
       "RandomForestRegressor(max_depth=10, n_estimators=500, n_jobs=-1,\n",
       "                      random_state=42)"
      ]
     },
     "execution_count": 60,
     "metadata": {},
     "output_type": "execute_result"
    }
   ],
   "source": [
    "from sklearn.ensemble import RandomForestRegressor\n",
    "model = RandomForestRegressor(n_estimators = 500,random_state = 42,max_depth = 10,n_jobs = -1)\n",
    "model.fit(X_train, y_train)"
   ]
  },
  {
   "cell_type": "code",
   "execution_count": 61,
   "id": "ca3c17c1-0bab-4ccb-bdd6-bf488317870d",
   "metadata": {
    "colab": {
     "base_uri": "https://localhost:8080/"
    },
    "id": "ca3c17c1-0bab-4ccb-bdd6-bf488317870d",
    "outputId": "a371c00a-a170-4889-a289-b7de28aee785"
   },
   "outputs": [
    {
     "name": "stdout",
     "output_type": "stream",
     "text": [
      "Random forest Regressortraining R2 Score 0.9835150709652467\n"
     ]
    }
   ],
   "source": [
    "y_pred_tr = model.predict(X_train)\n",
    "print(\"Random forest Regressortraining R2 Score\",metrics.r2_score(y_train,y_pred_tr))"
   ]
  },
  {
   "cell_type": "code",
   "execution_count": 62,
   "id": "600afc66-3a48-474d-998e-6495159c16a2",
   "metadata": {
    "id": "600afc66-3a48-474d-998e-6495159c16a2"
   },
   "outputs": [],
   "source": [
    "y_predict_3 = model.predict(X_test)"
   ]
  },
  {
   "cell_type": "code",
   "execution_count": 63,
   "id": "d6f6a3d1-dd9d-4542-94ff-90276a1a7e3c",
   "metadata": {
    "id": "d6f6a3d1-dd9d-4542-94ff-90276a1a7e3c"
   },
   "outputs": [],
   "source": [
    "R_score_1= metrics.r2_score(y_test,y_predict_3)\n",
    "MSE_1 = metrics.mean_squared_error(y_test,y_predict_3)\n",
    "MAE_1 = metrics.mean_absolute_error(y_test,y_predict_3)\n",
    "RMSE_1= math.sqrt(metrics.mean_squared_error(y_test,y_predict_3))"
   ]
  },
  {
   "cell_type": "code",
   "execution_count": 64,
   "id": "6b04d9e3-0b40-4dc7-8d4a-b71f6e62c5da",
   "metadata": {
    "colab": {
     "base_uri": "https://localhost:8080/",
     "height": 175
    },
    "id": "6b04d9e3-0b40-4dc7-8d4a-b71f6e62c5da",
    "outputId": "7a0de6d3-d1fc-4ad5-a6b7-daa907ea67d9"
   },
   "outputs": [
    {
     "data": {
      "text/html": [
       "<div>\n",
       "<style scoped>\n",
       "    .dataframe tbody tr th:only-of-type {\n",
       "        vertical-align: middle;\n",
       "    }\n",
       "\n",
       "    .dataframe tbody tr th {\n",
       "        vertical-align: top;\n",
       "    }\n",
       "\n",
       "    .dataframe thead th {\n",
       "        text-align: right;\n",
       "    }\n",
       "</style>\n",
       "<table border=\"1\" class=\"dataframe\">\n",
       "  <thead>\n",
       "    <tr style=\"text-align: right;\">\n",
       "      <th></th>\n",
       "      <th>Algorithm</th>\n",
       "      <th>R Square</th>\n",
       "      <th>Mean Squared Error</th>\n",
       "      <th>Mean Absolute Error</th>\n",
       "      <th>Root Mean Squared Error</th>\n",
       "    </tr>\n",
       "  </thead>\n",
       "  <tbody>\n",
       "    <tr>\n",
       "      <th>1</th>\n",
       "      <td>Linear Regression</td>\n",
       "      <td>0.575475</td>\n",
       "      <td>6.650444e+06</td>\n",
       "      <td>1373.692828</td>\n",
       "      <td>2578.845565</td>\n",
       "    </tr>\n",
       "    <tr>\n",
       "      <th>2</th>\n",
       "      <td>Multi Linear Regression</td>\n",
       "      <td>0.814232</td>\n",
       "      <td>2.953124e+06</td>\n",
       "      <td>1304.562520</td>\n",
       "      <td>1718.465646</td>\n",
       "    </tr>\n",
       "    <tr>\n",
       "      <th>3</th>\n",
       "      <td>Decission Tress Regressor</td>\n",
       "      <td>0.961923</td>\n",
       "      <td>6.052989e+05</td>\n",
       "      <td>412.722626</td>\n",
       "      <td>778.009561</td>\n",
       "    </tr>\n",
       "    <tr>\n",
       "      <th>4</th>\n",
       "      <td>Random Forest Regressor</td>\n",
       "      <td>0.977459</td>\n",
       "      <td>3.583237e+05</td>\n",
       "      <td>310.146763</td>\n",
       "      <td>598.601477</td>\n",
       "    </tr>\n",
       "  </tbody>\n",
       "</table>\n",
       "</div>"
      ],
      "text/plain": [
       "                   Algorithm  R Square  Mean Squared Error  \\\n",
       "1          Linear Regression  0.575475        6.650444e+06   \n",
       "2    Multi Linear Regression  0.814232        2.953124e+06   \n",
       "3  Decission Tress Regressor  0.961923        6.052989e+05   \n",
       "4    Random Forest Regressor  0.977459        3.583237e+05   \n",
       "\n",
       "   Mean Absolute Error  Root Mean Squared Error  \n",
       "1          1373.692828              2578.845565  \n",
       "2          1304.562520              1718.465646  \n",
       "3           412.722626               778.009561  \n",
       "4           310.146763               598.601477  "
      ]
     },
     "execution_count": 64,
     "metadata": {},
     "output_type": "execute_result"
    }
   ],
   "source": [
    "random_3 = pd.DataFrame({'Algorithm':['Random Forest Regressor'],'R Square':[R_score_1],'Mean Squared Error':[MSE_1],'Mean Absolute Error':[MAE_1],'Root Mean Squared Error':[RMSE_1]},index={'4'})\n",
    "results_3 = pd.concat([results,random_1,random_2,random_3])\n",
    "results_3 = results_3[['Algorithm','R Square','Mean Squared Error','Mean Absolute Error','Root Mean Squared Error']]\n",
    "results_3"
   ]
  },
  {
   "cell_type": "markdown",
   "id": "278839e4-7ca6-4a48-bcbb-d0eabfaf7d97",
   "metadata": {
    "id": "278839e4-7ca6-4a48-bcbb-d0eabfaf7d97"
   },
   "source": [
    "# K-Neighbors Regressor Analysis  "
   ]
  },
  {
   "cell_type": "code",
   "execution_count": 65,
   "id": "81221413-01b7-4ed3-9a0d-d4b2faa0d1a7",
   "metadata": {
    "colab": {
     "base_uri": "https://localhost:8080/"
    },
    "id": "81221413-01b7-4ed3-9a0d-d4b2faa0d1a7",
    "outputId": "9cb0faee-f59e-484c-b46a-638b05216f8e"
   },
   "outputs": [
    {
     "data": {
      "text/plain": [
       "KNeighborsRegressor(n_neighbors=2)"
      ]
     },
     "execution_count": 65,
     "metadata": {},
     "output_type": "execute_result"
    }
   ],
   "source": [
    "from sklearn.neighbors import KNeighborsRegressor\n",
    "neigh = KNeighborsRegressor(n_neighbors=2)\n",
    "neigh.fit(X_train, y_train)"
   ]
  },
  {
   "cell_type": "code",
   "execution_count": 66,
   "id": "8920d45e-82f0-47a2-a88c-43b910e97c7a",
   "metadata": {
    "colab": {
     "base_uri": "https://localhost:8080/"
    },
    "id": "8920d45e-82f0-47a2-a88c-43b910e97c7a",
    "outputId": "e66ff5d8-bf00-4659-e4b4-c36cbc892d96"
   },
   "outputs": [
    {
     "data": {
      "text/plain": [
       "0.9853905045396133"
      ]
     },
     "execution_count": 66,
     "metadata": {},
     "output_type": "execute_result"
    }
   ],
   "source": [
    "neigh.score(X_train,y_train)"
   ]
  },
  {
   "cell_type": "code",
   "execution_count": 67,
   "id": "016b5be0-57cf-480a-b3bc-560ffa20475f",
   "metadata": {
    "id": "016b5be0-57cf-480a-b3bc-560ffa20475f"
   },
   "outputs": [],
   "source": [
    "y_predict_4 = neigh.predict(X_test)"
   ]
  },
  {
   "cell_type": "code",
   "execution_count": 68,
   "id": "38e76aa2-50b2-492b-b5f7-09b3d2c229b9",
   "metadata": {
    "id": "38e76aa2-50b2-492b-b5f7-09b3d2c229b9"
   },
   "outputs": [],
   "source": [
    "R_score_1= metrics.r2_score(y_test,y_predict_4)\n",
    "MSE_1 = metrics.mean_squared_error(y_test,y_predict_4)\n",
    "MAE_1 = metrics.mean_absolute_error(y_test,y_predict_4)\n",
    "RMSE_1= math.sqrt(metrics.mean_squared_error(y_test,y_predict_4))"
   ]
  },
  {
   "cell_type": "code",
   "execution_count": 69,
   "id": "b708dcda-9bc7-4c41-bbba-d70d6f6f2759",
   "metadata": {
    "colab": {
     "base_uri": "https://localhost:8080/",
     "height": 206
    },
    "id": "b708dcda-9bc7-4c41-bbba-d70d6f6f2759",
    "outputId": "62b12348-649a-4461-d186-c1f4099155e6"
   },
   "outputs": [
    {
     "data": {
      "text/html": [
       "<div>\n",
       "<style scoped>\n",
       "    .dataframe tbody tr th:only-of-type {\n",
       "        vertical-align: middle;\n",
       "    }\n",
       "\n",
       "    .dataframe tbody tr th {\n",
       "        vertical-align: top;\n",
       "    }\n",
       "\n",
       "    .dataframe thead th {\n",
       "        text-align: right;\n",
       "    }\n",
       "</style>\n",
       "<table border=\"1\" class=\"dataframe\">\n",
       "  <thead>\n",
       "    <tr style=\"text-align: right;\">\n",
       "      <th></th>\n",
       "      <th>Algorithm</th>\n",
       "      <th>R Square</th>\n",
       "      <th>Mean Squared Error</th>\n",
       "      <th>Mean Absolute Error</th>\n",
       "      <th>Root Mean Squared Error</th>\n",
       "    </tr>\n",
       "  </thead>\n",
       "  <tbody>\n",
       "    <tr>\n",
       "      <th>1</th>\n",
       "      <td>Linear Regression</td>\n",
       "      <td>0.575475</td>\n",
       "      <td>6.650444e+06</td>\n",
       "      <td>1373.692828</td>\n",
       "      <td>2578.845565</td>\n",
       "    </tr>\n",
       "    <tr>\n",
       "      <th>2</th>\n",
       "      <td>Multi Linear Regression</td>\n",
       "      <td>0.814232</td>\n",
       "      <td>2.953124e+06</td>\n",
       "      <td>1304.562520</td>\n",
       "      <td>1718.465646</td>\n",
       "    </tr>\n",
       "    <tr>\n",
       "      <th>3</th>\n",
       "      <td>Decission Tress Regressor</td>\n",
       "      <td>0.961923</td>\n",
       "      <td>6.052989e+05</td>\n",
       "      <td>412.722626</td>\n",
       "      <td>778.009561</td>\n",
       "    </tr>\n",
       "    <tr>\n",
       "      <th>4</th>\n",
       "      <td>Random Forest Regressor</td>\n",
       "      <td>0.977459</td>\n",
       "      <td>3.583237e+05</td>\n",
       "      <td>310.146763</td>\n",
       "      <td>598.601477</td>\n",
       "    </tr>\n",
       "    <tr>\n",
       "      <th>5</th>\n",
       "      <td>K-Neighbors Regressor</td>\n",
       "      <td>0.946995</td>\n",
       "      <td>8.426037e+05</td>\n",
       "      <td>439.758945</td>\n",
       "      <td>917.934465</td>\n",
       "    </tr>\n",
       "  </tbody>\n",
       "</table>\n",
       "</div>"
      ],
      "text/plain": [
       "                   Algorithm  R Square  Mean Squared Error  \\\n",
       "1          Linear Regression  0.575475        6.650444e+06   \n",
       "2    Multi Linear Regression  0.814232        2.953124e+06   \n",
       "3  Decission Tress Regressor  0.961923        6.052989e+05   \n",
       "4    Random Forest Regressor  0.977459        3.583237e+05   \n",
       "5      K-Neighbors Regressor  0.946995        8.426037e+05   \n",
       "\n",
       "   Mean Absolute Error  Root Mean Squared Error  \n",
       "1          1373.692828              2578.845565  \n",
       "2          1304.562520              1718.465646  \n",
       "3           412.722626               778.009561  \n",
       "4           310.146763               598.601477  \n",
       "5           439.758945               917.934465  "
      ]
     },
     "execution_count": 69,
     "metadata": {},
     "output_type": "execute_result"
    }
   ],
   "source": [
    "random_4 = pd.DataFrame({'Algorithm':['K-Neighbors Regressor'],'R Square':[R_score_1],'Mean Squared Error':[MSE_1],'Mean Absolute Error':[MAE_1],'Root Mean Squared Error':[RMSE_1]},index={'5'})\n",
    "results_4 = pd.concat([results,random_1,random_2,random_3,random_4])\n",
    "results_4 = results_4[['Algorithm','R Square','Mean Squared Error','Mean Absolute Error','Root Mean Squared Error']]\n",
    "results_4"
   ]
  },
  {
   "cell_type": "code",
   "execution_count": 70,
   "id": "c62628e3-0d6b-4fdc-8e82-bb46c0575db6",
   "metadata": {
    "id": "c62628e3-0d6b-4fdc-8e82-bb46c0575db6"
   },
   "outputs": [],
   "source": [
    "# pip install mlxtend "
   ]
  },
  {
   "cell_type": "markdown",
   "id": "4210fb77-1e8c-46a6-a018-450a156d117a",
   "metadata": {
    "id": "4210fb77-1e8c-46a6-a018-450a156d117a"
   },
   "source": [
    "# AdaBoost Regressor"
   ]
  },
  {
   "cell_type": "code",
   "execution_count": 71,
   "id": "df93891e-7b4e-4142-9e9f-56e299e682db",
   "metadata": {
    "colab": {
     "base_uri": "https://localhost:8080/"
    },
    "id": "df93891e-7b4e-4142-9e9f-56e299e682db",
    "outputId": "2a463051-fcd2-49b3-a6d1-3e75bce26e74"
   },
   "outputs": [
    {
     "data": {
      "text/plain": [
       "AdaBoostRegressor(random_state=42)"
      ]
     },
     "execution_count": 71,
     "metadata": {},
     "output_type": "execute_result"
    }
   ],
   "source": [
    "from sklearn.ensemble import AdaBoostRegressor\n",
    "\n",
    "adaboost = AdaBoostRegressor(random_state=42)\n",
    "\n",
    "adaboost.fit(X_train,y_train)"
   ]
  },
  {
   "cell_type": "code",
   "execution_count": 72,
   "id": "0404f92a-f11c-4437-b4c2-313c996d05b3",
   "metadata": {
    "colab": {
     "base_uri": "https://localhost:8080/"
    },
    "id": "0404f92a-f11c-4437-b4c2-313c996d05b3",
    "outputId": "77a08872-2971-404d-b4ff-bec0aca323a4"
   },
   "outputs": [
    {
     "name": "stdout",
     "output_type": "stream",
     "text": [
      "Adaboost Regressor training R2 Score 0.8029174730702582\n"
     ]
    }
   ],
   "source": [
    "y_train_ada = adaboost.predict(X_train)\n",
    "print(\"Adaboost Regressor training R2 Score\",metrics.r2_score(y_train,y_train_ada))\n",
    "y_ada_predict = adaboost.predict(X_test)"
   ]
  },
  {
   "cell_type": "code",
   "execution_count": 73,
   "id": "e73b5d9e-e9f9-4c69-8c99-f784355fe0e7",
   "metadata": {
    "id": "e73b5d9e-e9f9-4c69-8c99-f784355fe0e7"
   },
   "outputs": [],
   "source": [
    "R_score_1= metrics.r2_score(y_test,y_ada_predict)\n",
    "MSE_1 = metrics.mean_squared_error(y_test,y_ada_predict)\n",
    "MAE_1 = metrics.mean_absolute_error(y_test,y_ada_predict)\n",
    "RMSE_1= math.sqrt(metrics.mean_squared_error(y_test,y_ada_predict))"
   ]
  },
  {
   "cell_type": "code",
   "execution_count": 74,
   "id": "8ac7de65-1d6d-4fb9-8c11-db3bfd4e2006",
   "metadata": {
    "colab": {
     "base_uri": "https://localhost:8080/",
     "height": 238
    },
    "id": "8ac7de65-1d6d-4fb9-8c11-db3bfd4e2006",
    "outputId": "e3abc751-2e5a-4ed2-89f0-bbc947dbb6d8"
   },
   "outputs": [
    {
     "data": {
      "text/html": [
       "<div>\n",
       "<style scoped>\n",
       "    .dataframe tbody tr th:only-of-type {\n",
       "        vertical-align: middle;\n",
       "    }\n",
       "\n",
       "    .dataframe tbody tr th {\n",
       "        vertical-align: top;\n",
       "    }\n",
       "\n",
       "    .dataframe thead th {\n",
       "        text-align: right;\n",
       "    }\n",
       "</style>\n",
       "<table border=\"1\" class=\"dataframe\">\n",
       "  <thead>\n",
       "    <tr style=\"text-align: right;\">\n",
       "      <th></th>\n",
       "      <th>Algorithm</th>\n",
       "      <th>R Square</th>\n",
       "      <th>Mean Squared Error</th>\n",
       "      <th>Mean Absolute Error</th>\n",
       "      <th>Root Mean Squared Error</th>\n",
       "    </tr>\n",
       "  </thead>\n",
       "  <tbody>\n",
       "    <tr>\n",
       "      <th>1</th>\n",
       "      <td>Linear Regression</td>\n",
       "      <td>0.575475</td>\n",
       "      <td>6.650444e+06</td>\n",
       "      <td>1373.692828</td>\n",
       "      <td>2578.845565</td>\n",
       "    </tr>\n",
       "    <tr>\n",
       "      <th>2</th>\n",
       "      <td>Multi Linear Regression</td>\n",
       "      <td>0.814232</td>\n",
       "      <td>2.953124e+06</td>\n",
       "      <td>1304.562520</td>\n",
       "      <td>1718.465646</td>\n",
       "    </tr>\n",
       "    <tr>\n",
       "      <th>3</th>\n",
       "      <td>Decission Tress Regressor</td>\n",
       "      <td>0.961923</td>\n",
       "      <td>6.052989e+05</td>\n",
       "      <td>412.722626</td>\n",
       "      <td>778.009561</td>\n",
       "    </tr>\n",
       "    <tr>\n",
       "      <th>4</th>\n",
       "      <td>Random Forest Regressor</td>\n",
       "      <td>0.977459</td>\n",
       "      <td>3.583237e+05</td>\n",
       "      <td>310.146763</td>\n",
       "      <td>598.601477</td>\n",
       "    </tr>\n",
       "    <tr>\n",
       "      <th>5</th>\n",
       "      <td>K-Neighbors Regressor</td>\n",
       "      <td>0.946995</td>\n",
       "      <td>8.426037e+05</td>\n",
       "      <td>439.758945</td>\n",
       "      <td>917.934465</td>\n",
       "    </tr>\n",
       "    <tr>\n",
       "      <th>6</th>\n",
       "      <td>ADA-Boost Regressor</td>\n",
       "      <td>0.799171</td>\n",
       "      <td>3.192548e+06</td>\n",
       "      <td>1240.001556</td>\n",
       "      <td>1786.770137</td>\n",
       "    </tr>\n",
       "  </tbody>\n",
       "</table>\n",
       "</div>"
      ],
      "text/plain": [
       "                   Algorithm  R Square  Mean Squared Error  \\\n",
       "1          Linear Regression  0.575475        6.650444e+06   \n",
       "2    Multi Linear Regression  0.814232        2.953124e+06   \n",
       "3  Decission Tress Regressor  0.961923        6.052989e+05   \n",
       "4    Random Forest Regressor  0.977459        3.583237e+05   \n",
       "5      K-Neighbors Regressor  0.946995        8.426037e+05   \n",
       "6        ADA-Boost Regressor  0.799171        3.192548e+06   \n",
       "\n",
       "   Mean Absolute Error  Root Mean Squared Error  \n",
       "1          1373.692828              2578.845565  \n",
       "2          1304.562520              1718.465646  \n",
       "3           412.722626               778.009561  \n",
       "4           310.146763               598.601477  \n",
       "5           439.758945               917.934465  \n",
       "6          1240.001556              1786.770137  "
      ]
     },
     "execution_count": 74,
     "metadata": {},
     "output_type": "execute_result"
    }
   ],
   "source": [
    "random_5 = pd.DataFrame({'Algorithm':['ADA-Boost Regressor'],'R Square':[R_score_1],'Mean Squared Error':[MSE_1],'Mean Absolute Error':[MAE_1],'Root Mean Squared Error':[RMSE_1]},index={'6'})\n",
    "results_5 = pd.concat([results,random_1,random_2,random_3,random_4,random_5])\n",
    "results_5 = results_5[['Algorithm','R Square','Mean Squared Error','Mean Absolute Error','Root Mean Squared Error']]\n",
    "results_5"
   ]
  },
  {
   "cell_type": "markdown",
   "id": "813f8c7d-fdaa-4db5-8f1e-04f56c46a3bc",
   "metadata": {
    "id": "813f8c7d-fdaa-4db5-8f1e-04f56c46a3bc"
   },
   "source": [
    "# Gradient Boosting Regressor Analysis"
   ]
  },
  {
   "cell_type": "code",
   "execution_count": 75,
   "id": "8cbbf95e-9b56-4901-a02c-a6f15653db96",
   "metadata": {
    "colab": {
     "base_uri": "https://localhost:8080/"
    },
    "id": "8cbbf95e-9b56-4901-a02c-a6f15653db96",
    "outputId": "352a60fb-cf84-4869-d0d3-210c146455a8"
   },
   "outputs": [
    {
     "name": "stdout",
     "output_type": "stream",
     "text": [
      "Gradient Boosting Regressor: 0.9709001352713634\n"
     ]
    }
   ],
   "source": [
    "from sklearn.ensemble import GradientBoostingRegressor\n",
    "\n",
    "gbrt = GradientBoostingRegressor(random_state=42)\n",
    "gbrt.fit(X_train,y_train)\n",
    "\n",
    "y_gbrt_predict_tr = gbrt.predict(X_train)\n",
    "R_score_1= metrics.r2_score(y_train,y_gbrt_predict_tr)\n",
    "print(\"Gradient Boosting Regressor:\",R_score_1)\n"
   ]
  },
  {
   "cell_type": "code",
   "execution_count": 76,
   "id": "99ad89a8-a479-4012-8fd7-9818079fb02e",
   "metadata": {
    "colab": {
     "base_uri": "https://localhost:8080/",
     "height": 269
    },
    "id": "99ad89a8-a479-4012-8fd7-9818079fb02e",
    "outputId": "59427a7b-fcc5-430d-ab9c-3f0c1545434b"
   },
   "outputs": [
    {
     "data": {
      "text/html": [
       "<div>\n",
       "<style scoped>\n",
       "    .dataframe tbody tr th:only-of-type {\n",
       "        vertical-align: middle;\n",
       "    }\n",
       "\n",
       "    .dataframe tbody tr th {\n",
       "        vertical-align: top;\n",
       "    }\n",
       "\n",
       "    .dataframe thead th {\n",
       "        text-align: right;\n",
       "    }\n",
       "</style>\n",
       "<table border=\"1\" class=\"dataframe\">\n",
       "  <thead>\n",
       "    <tr style=\"text-align: right;\">\n",
       "      <th></th>\n",
       "      <th>Algorithm</th>\n",
       "      <th>R Square</th>\n",
       "      <th>Mean Squared Error</th>\n",
       "      <th>Mean Absolute Error</th>\n",
       "      <th>Root Mean Squared Error</th>\n",
       "    </tr>\n",
       "  </thead>\n",
       "  <tbody>\n",
       "    <tr>\n",
       "      <th>1</th>\n",
       "      <td>Linear Regression</td>\n",
       "      <td>0.575475</td>\n",
       "      <td>6.650444e+06</td>\n",
       "      <td>1373.692828</td>\n",
       "      <td>2578.845565</td>\n",
       "    </tr>\n",
       "    <tr>\n",
       "      <th>2</th>\n",
       "      <td>Multi Linear Regression</td>\n",
       "      <td>0.814232</td>\n",
       "      <td>2.953124e+06</td>\n",
       "      <td>1304.562520</td>\n",
       "      <td>1718.465646</td>\n",
       "    </tr>\n",
       "    <tr>\n",
       "      <th>3</th>\n",
       "      <td>Decission Tress Regressor</td>\n",
       "      <td>0.961923</td>\n",
       "      <td>6.052989e+05</td>\n",
       "      <td>412.722626</td>\n",
       "      <td>778.009561</td>\n",
       "    </tr>\n",
       "    <tr>\n",
       "      <th>4</th>\n",
       "      <td>Random Forest Regressor</td>\n",
       "      <td>0.977459</td>\n",
       "      <td>3.583237e+05</td>\n",
       "      <td>310.146763</td>\n",
       "      <td>598.601477</td>\n",
       "    </tr>\n",
       "    <tr>\n",
       "      <th>5</th>\n",
       "      <td>K-Neighbors Regressor</td>\n",
       "      <td>0.946995</td>\n",
       "      <td>8.426037e+05</td>\n",
       "      <td>439.758945</td>\n",
       "      <td>917.934465</td>\n",
       "    </tr>\n",
       "    <tr>\n",
       "      <th>6</th>\n",
       "      <td>ADA-Boost Regressor</td>\n",
       "      <td>0.799171</td>\n",
       "      <td>3.192548e+06</td>\n",
       "      <td>1240.001556</td>\n",
       "      <td>1786.770137</td>\n",
       "    </tr>\n",
       "    <tr>\n",
       "      <th>7</th>\n",
       "      <td>Gradient Boosting Regressor</td>\n",
       "      <td>0.970451</td>\n",
       "      <td>4.697274e+05</td>\n",
       "      <td>372.271024</td>\n",
       "      <td>685.366587</td>\n",
       "    </tr>\n",
       "  </tbody>\n",
       "</table>\n",
       "</div>"
      ],
      "text/plain": [
       "                     Algorithm  R Square  Mean Squared Error  \\\n",
       "1            Linear Regression  0.575475        6.650444e+06   \n",
       "2      Multi Linear Regression  0.814232        2.953124e+06   \n",
       "3    Decission Tress Regressor  0.961923        6.052989e+05   \n",
       "4      Random Forest Regressor  0.977459        3.583237e+05   \n",
       "5        K-Neighbors Regressor  0.946995        8.426037e+05   \n",
       "6          ADA-Boost Regressor  0.799171        3.192548e+06   \n",
       "7  Gradient Boosting Regressor  0.970451        4.697274e+05   \n",
       "\n",
       "   Mean Absolute Error  Root Mean Squared Error  \n",
       "1          1373.692828              2578.845565  \n",
       "2          1304.562520              1718.465646  \n",
       "3           412.722626               778.009561  \n",
       "4           310.146763               598.601477  \n",
       "5           439.758945               917.934465  \n",
       "6          1240.001556              1786.770137  \n",
       "7           372.271024               685.366587  "
      ]
     },
     "execution_count": 76,
     "metadata": {},
     "output_type": "execute_result"
    }
   ],
   "source": [
    "y_gbrt_predict = gbrt.predict(X_test)\n",
    "R_score_1= metrics.r2_score(y_test,y_gbrt_predict)\n",
    "MSE_1 = metrics.mean_squared_error(y_test,y_gbrt_predict)\n",
    "MAE_1 = metrics.mean_absolute_error(y_test,y_gbrt_predict)\n",
    "RMSE_1= math.sqrt(metrics.mean_squared_error(y_test,y_gbrt_predict))\n",
    "random_6 = pd.DataFrame({'Algorithm':['Gradient Boosting Regressor'],'R Square':[R_score_1],'Mean Squared Error':[MSE_1],'Mean Absolute Error':[MAE_1],'Root Mean Squared Error':[RMSE_1]},index={'7'})\n",
    "results_6 = pd.concat([results,random_1,random_2,random_3,random_4,random_5,random_6])\n",
    "results_6 = results_6[['Algorithm','R Square','Mean Squared Error','Mean Absolute Error','Root Mean Squared Error']]\n",
    "results_6"
   ]
  },
  {
   "cell_type": "markdown",
   "id": "da661c4d-f94f-4007-8f64-9dfe4da485f1",
   "metadata": {
    "id": "da661c4d-f94f-4007-8f64-9dfe4da485f1"
   },
   "source": [
    "# Xtreme Gradient Boost Regression Analysis"
   ]
  },
  {
   "cell_type": "code",
   "execution_count": 77,
   "id": "80c391da-882a-4ab8-8f13-9736782a79cf",
   "metadata": {
    "colab": {
     "base_uri": "https://localhost:8080/"
    },
    "id": "80c391da-882a-4ab8-8f13-9736782a79cf",
    "outputId": "b8abea1d-15d6-4626-c87e-c1ceeaac4673"
   },
   "outputs": [
    {
     "name": "stdout",
     "output_type": "stream",
     "text": [
      "Gradient Boosting Regressor Training Score: 0.9905507951757226\n"
     ]
    }
   ],
   "source": [
    "from xgboost.sklearn import XGBRegressor\n",
    "\n",
    "xgb_reg = XGBRegressor(random_state=42)\n",
    "\n",
    "xgb_reg.fit(X_train,y_train)\n",
    "\n",
    "y_xgbrt_predict_tr = xgb_reg.predict(X_train)\n",
    "R_score_1= metrics.r2_score(y_train,y_xgbrt_predict_tr)\n",
    "print(\"Gradient Boosting Regressor Training Score:\",R_score_1)\n"
   ]
  },
  {
   "cell_type": "code",
   "execution_count": 78,
   "id": "7a25aba4-a357-46e4-9fa5-6c2bbc7d96ab",
   "metadata": {
    "colab": {
     "base_uri": "https://localhost:8080/",
     "height": 0
    },
    "id": "7a25aba4-a357-46e4-9fa5-6c2bbc7d96ab",
    "outputId": "fd54e3a6-05a9-48ee-ed91-c79e6d4777fc"
   },
   "outputs": [
    {
     "data": {
      "text/html": [
       "<div>\n",
       "<style scoped>\n",
       "    .dataframe tbody tr th:only-of-type {\n",
       "        vertical-align: middle;\n",
       "    }\n",
       "\n",
       "    .dataframe tbody tr th {\n",
       "        vertical-align: top;\n",
       "    }\n",
       "\n",
       "    .dataframe thead th {\n",
       "        text-align: right;\n",
       "    }\n",
       "</style>\n",
       "<table border=\"1\" class=\"dataframe\">\n",
       "  <thead>\n",
       "    <tr style=\"text-align: right;\">\n",
       "      <th></th>\n",
       "      <th>Algorithm</th>\n",
       "      <th>R Square</th>\n",
       "      <th>Mean Squared Error</th>\n",
       "      <th>Mean Absolute Error</th>\n",
       "      <th>Root Mean Squared Error</th>\n",
       "    </tr>\n",
       "  </thead>\n",
       "  <tbody>\n",
       "    <tr>\n",
       "      <th>1</th>\n",
       "      <td>Linear Regression</td>\n",
       "      <td>0.575475</td>\n",
       "      <td>6.650444e+06</td>\n",
       "      <td>1373.692828</td>\n",
       "      <td>2578.845565</td>\n",
       "    </tr>\n",
       "    <tr>\n",
       "      <th>2</th>\n",
       "      <td>Multi Linear Regression</td>\n",
       "      <td>0.814232</td>\n",
       "      <td>2.953124e+06</td>\n",
       "      <td>1304.562520</td>\n",
       "      <td>1718.465646</td>\n",
       "    </tr>\n",
       "    <tr>\n",
       "      <th>3</th>\n",
       "      <td>Decission Tress Regressor</td>\n",
       "      <td>0.961923</td>\n",
       "      <td>6.052989e+05</td>\n",
       "      <td>412.722626</td>\n",
       "      <td>778.009561</td>\n",
       "    </tr>\n",
       "    <tr>\n",
       "      <th>4</th>\n",
       "      <td>Random Forest Regressor</td>\n",
       "      <td>0.977459</td>\n",
       "      <td>3.583237e+05</td>\n",
       "      <td>310.146763</td>\n",
       "      <td>598.601477</td>\n",
       "    </tr>\n",
       "    <tr>\n",
       "      <th>5</th>\n",
       "      <td>K-Neighbors Regressor</td>\n",
       "      <td>0.946995</td>\n",
       "      <td>8.426037e+05</td>\n",
       "      <td>439.758945</td>\n",
       "      <td>917.934465</td>\n",
       "    </tr>\n",
       "    <tr>\n",
       "      <th>6</th>\n",
       "      <td>ADA-Boost Regressor</td>\n",
       "      <td>0.799171</td>\n",
       "      <td>3.192548e+06</td>\n",
       "      <td>1240.001556</td>\n",
       "      <td>1786.770137</td>\n",
       "    </tr>\n",
       "    <tr>\n",
       "      <th>7</th>\n",
       "      <td>Gradient Boosting Regressor</td>\n",
       "      <td>0.970451</td>\n",
       "      <td>4.697274e+05</td>\n",
       "      <td>372.271024</td>\n",
       "      <td>685.366587</td>\n",
       "    </tr>\n",
       "    <tr>\n",
       "      <th>8</th>\n",
       "      <td>XGBoost Regressor</td>\n",
       "      <td>0.979434</td>\n",
       "      <td>3.269290e+05</td>\n",
       "      <td>283.616128</td>\n",
       "      <td>571.777030</td>\n",
       "    </tr>\n",
       "  </tbody>\n",
       "</table>\n",
       "</div>"
      ],
      "text/plain": [
       "                     Algorithm  R Square  Mean Squared Error  \\\n",
       "1            Linear Regression  0.575475        6.650444e+06   \n",
       "2      Multi Linear Regression  0.814232        2.953124e+06   \n",
       "3    Decission Tress Regressor  0.961923        6.052989e+05   \n",
       "4      Random Forest Regressor  0.977459        3.583237e+05   \n",
       "5        K-Neighbors Regressor  0.946995        8.426037e+05   \n",
       "6          ADA-Boost Regressor  0.799171        3.192548e+06   \n",
       "7  Gradient Boosting Regressor  0.970451        4.697274e+05   \n",
       "8            XGBoost Regressor  0.979434        3.269290e+05   \n",
       "\n",
       "   Mean Absolute Error  Root Mean Squared Error  \n",
       "1          1373.692828              2578.845565  \n",
       "2          1304.562520              1718.465646  \n",
       "3           412.722626               778.009561  \n",
       "4           310.146763               598.601477  \n",
       "5           439.758945               917.934465  \n",
       "6          1240.001556              1786.770137  \n",
       "7           372.271024               685.366587  \n",
       "8           283.616128               571.777030  "
      ]
     },
     "execution_count": 78,
     "metadata": {},
     "output_type": "execute_result"
    }
   ],
   "source": [
    "y_xgb_predict = xgb_reg.predict(X_test)\n",
    "R_score_1= metrics.r2_score(y_test,y_xgb_predict)\n",
    "MSE_1 = metrics.mean_squared_error(y_test,y_xgb_predict)\n",
    "MAE_1 = metrics.mean_absolute_error(y_test,y_xgb_predict)\n",
    "RMSE_1= math.sqrt(metrics.mean_squared_error(y_test,y_xgb_predict))\n",
    "random_7 = pd.DataFrame({'Algorithm':['XGBoost Regressor'],'R Square':[R_score_1],'Mean Squared Error':[MSE_1],'Mean Absolute Error':[MAE_1],'Root Mean Squared Error':[RMSE_1]},index={'8'})\n",
    "results_7 = pd.concat([results,random_1,random_2,random_3,random_4,random_5,random_6,random_7])\n",
    "results_7 = results_7[['Algorithm','R Square','Mean Squared Error','Mean Absolute Error','Root Mean Squared Error']]\n",
    "results_7"
   ]
  },
  {
   "cell_type": "markdown",
   "id": "6b5bbf79-13ba-4dd1-b274-1d28925760f5",
   "metadata": {
    "id": "6b5bbf79-13ba-4dd1-b274-1d28925760f5"
   },
   "source": [
    "# Support Vector Regression"
   ]
  },
  {
   "cell_type": "code",
   "execution_count": 79,
   "id": "858101c4-6da4-4272-9a74-e12dc2eae9bb",
   "metadata": {
    "colab": {
     "base_uri": "https://localhost:8080/"
    },
    "id": "858101c4-6da4-4272-9a74-e12dc2eae9bb",
    "outputId": "3f2f3b3f-92f6-433b-bcce-51598d4219bf"
   },
   "outputs": [
    {
     "name": "stdout",
     "output_type": "stream",
     "text": [
      "SVR Training Score: 0.474884665132827\n"
     ]
    }
   ],
   "source": [
    "from sklearn import svm\n",
    "model = svm.SVR()\n",
    "model.fit(X_train,y_train)\n",
    "y_train_pred = model.predict(X_train)\n",
    "print(\"SVR Training Score:\",metrics.r2_score(y_train,y_train_pred))\n",
    "y_test_pred = model.predict(X_test)\n",
    "\n",
    "R_score_1= metrics.r2_score(y_test,y_test_pred)\n",
    "MSE_1 = metrics.mean_squared_error(y_test,y_test_pred)\n",
    "MAE_1 = metrics.mean_absolute_error(y_test,y_test_pred)\n",
    "RMSE_1= math.sqrt(metrics.mean_squared_error(y_test,y_test_pred))"
   ]
  },
  {
   "cell_type": "code",
   "execution_count": 80,
   "id": "e8946dc0-88e3-4a94-92cc-d2a3ea1ac5d5",
   "metadata": {
    "colab": {
     "base_uri": "https://localhost:8080/",
     "height": 332
    },
    "id": "e8946dc0-88e3-4a94-92cc-d2a3ea1ac5d5",
    "outputId": "8289f611-403b-428b-8580-366395c449c7"
   },
   "outputs": [
    {
     "data": {
      "text/html": [
       "<div>\n",
       "<style scoped>\n",
       "    .dataframe tbody tr th:only-of-type {\n",
       "        vertical-align: middle;\n",
       "    }\n",
       "\n",
       "    .dataframe tbody tr th {\n",
       "        vertical-align: top;\n",
       "    }\n",
       "\n",
       "    .dataframe thead th {\n",
       "        text-align: right;\n",
       "    }\n",
       "</style>\n",
       "<table border=\"1\" class=\"dataframe\">\n",
       "  <thead>\n",
       "    <tr style=\"text-align: right;\">\n",
       "      <th></th>\n",
       "      <th>Algorithm</th>\n",
       "      <th>R Square</th>\n",
       "      <th>Mean Squared Error</th>\n",
       "      <th>Mean Absolute Error</th>\n",
       "      <th>Root Mean Squared Error</th>\n",
       "    </tr>\n",
       "  </thead>\n",
       "  <tbody>\n",
       "    <tr>\n",
       "      <th>1</th>\n",
       "      <td>Linear Regression</td>\n",
       "      <td>0.575475</td>\n",
       "      <td>6.650444e+06</td>\n",
       "      <td>1373.692828</td>\n",
       "      <td>2578.845565</td>\n",
       "    </tr>\n",
       "    <tr>\n",
       "      <th>2</th>\n",
       "      <td>Multi Linear Regression</td>\n",
       "      <td>0.814232</td>\n",
       "      <td>2.953124e+06</td>\n",
       "      <td>1304.562520</td>\n",
       "      <td>1718.465646</td>\n",
       "    </tr>\n",
       "    <tr>\n",
       "      <th>3</th>\n",
       "      <td>Decission Tress Regressor</td>\n",
       "      <td>0.961923</td>\n",
       "      <td>6.052989e+05</td>\n",
       "      <td>412.722626</td>\n",
       "      <td>778.009561</td>\n",
       "    </tr>\n",
       "    <tr>\n",
       "      <th>4</th>\n",
       "      <td>Random Forest Regressor</td>\n",
       "      <td>0.977459</td>\n",
       "      <td>3.583237e+05</td>\n",
       "      <td>310.146763</td>\n",
       "      <td>598.601477</td>\n",
       "    </tr>\n",
       "    <tr>\n",
       "      <th>5</th>\n",
       "      <td>K-Neighbors Regressor</td>\n",
       "      <td>0.946995</td>\n",
       "      <td>8.426037e+05</td>\n",
       "      <td>439.758945</td>\n",
       "      <td>917.934465</td>\n",
       "    </tr>\n",
       "    <tr>\n",
       "      <th>6</th>\n",
       "      <td>ADA-Boost Regressor</td>\n",
       "      <td>0.799171</td>\n",
       "      <td>3.192548e+06</td>\n",
       "      <td>1240.001556</td>\n",
       "      <td>1786.770137</td>\n",
       "    </tr>\n",
       "    <tr>\n",
       "      <th>7</th>\n",
       "      <td>Gradient Boosting Regressor</td>\n",
       "      <td>0.970451</td>\n",
       "      <td>4.697274e+05</td>\n",
       "      <td>372.271024</td>\n",
       "      <td>685.366587</td>\n",
       "    </tr>\n",
       "    <tr>\n",
       "      <th>8</th>\n",
       "      <td>XGBoost Regressor</td>\n",
       "      <td>0.979434</td>\n",
       "      <td>3.269290e+05</td>\n",
       "      <td>283.616128</td>\n",
       "      <td>571.777030</td>\n",
       "    </tr>\n",
       "    <tr>\n",
       "      <th>9</th>\n",
       "      <td>Support Vector Regressor</td>\n",
       "      <td>0.474413</td>\n",
       "      <td>8.355162e+06</td>\n",
       "      <td>1389.922658</td>\n",
       "      <td>2890.529732</td>\n",
       "    </tr>\n",
       "  </tbody>\n",
       "</table>\n",
       "</div>"
      ],
      "text/plain": [
       "                     Algorithm  R Square  Mean Squared Error  \\\n",
       "1            Linear Regression  0.575475        6.650444e+06   \n",
       "2      Multi Linear Regression  0.814232        2.953124e+06   \n",
       "3    Decission Tress Regressor  0.961923        6.052989e+05   \n",
       "4      Random Forest Regressor  0.977459        3.583237e+05   \n",
       "5        K-Neighbors Regressor  0.946995        8.426037e+05   \n",
       "6          ADA-Boost Regressor  0.799171        3.192548e+06   \n",
       "7  Gradient Boosting Regressor  0.970451        4.697274e+05   \n",
       "8            XGBoost Regressor  0.979434        3.269290e+05   \n",
       "9     Support Vector Regressor  0.474413        8.355162e+06   \n",
       "\n",
       "   Mean Absolute Error  Root Mean Squared Error  \n",
       "1          1373.692828              2578.845565  \n",
       "2          1304.562520              1718.465646  \n",
       "3           412.722626               778.009561  \n",
       "4           310.146763               598.601477  \n",
       "5           439.758945               917.934465  \n",
       "6          1240.001556              1786.770137  \n",
       "7           372.271024               685.366587  \n",
       "8           283.616128               571.777030  \n",
       "9          1389.922658              2890.529732  "
      ]
     },
     "execution_count": 80,
     "metadata": {},
     "output_type": "execute_result"
    }
   ],
   "source": [
    "random_8 = pd.DataFrame({'Algorithm':['Support Vector Regressor'],'R Square':[R_score_1],'Mean Squared Error':[MSE_1],'Mean Absolute Error':[MAE_1],'Root Mean Squared Error':[RMSE_1]},index={'9'})\n",
    "results_8 = pd.concat([results,random_1,random_2,random_3,random_4,random_5,random_6,random_7,random_8])\n",
    "results_8 = results_8[['Algorithm','R Square','Mean Squared Error','Mean Absolute Error','Root Mean Squared Error']]\n",
    "results_8"
   ]
  },
  {
   "cell_type": "markdown",
   "id": "c1696fdb-5e84-4fb4-b592-e198050fc266",
   "metadata": {
    "id": "c1696fdb-5e84-4fb4-b592-e198050fc266"
   },
   "source": [
    "# Votting Regressor "
   ]
  },
  {
   "cell_type": "code",
   "execution_count": 81,
   "id": "41fc8337-da88-45be-8e31-acaed69d015c",
   "metadata": {
    "colab": {
     "base_uri": "https://localhost:8080/"
    },
    "id": "41fc8337-da88-45be-8e31-acaed69d015c",
    "outputId": "33bd1f7a-7955-4989-ee38-1cd9e32ec48a"
   },
   "outputs": [
    {
     "data": {
      "text/plain": [
       "VotingRegressor(estimators=[('LR', LinearRegression()),\n",
       "                            ('DTR', DecisionTreeRegressor(random_state=42)),\n",
       "                            ('RFR', RandomForestRegressor(random_state=42)),\n",
       "                            ('KNR', KNeighborsRegressor(n_neighbors=2)),\n",
       "                            ('ABR', AdaBoostRegressor(random_state=42)),\n",
       "                            ('GBR', GradientBoostingRegressor(random_state=42)),\n",
       "                            ('XGBR',\n",
       "                             XGBRegressor(base_score=None, booster=None,\n",
       "                                          callbacks=None,...\n",
       "                                          importance_type=None,\n",
       "                                          interaction_constraints=None,\n",
       "                                          learning_rate=None, max_bin=None,\n",
       "                                          max_cat_threshold=None,\n",
       "                                          max_cat_to_onehot=None,\n",
       "                                          max_delta_step=None, max_depth=None,\n",
       "                                          max_leaves=None,\n",
       "                                          min_child_weight=None, missing=nan,\n",
       "                                          monotone_constraints=None,\n",
       "                                          n_estimators=100, n_jobs=None,\n",
       "                                          num_parallel_tree=None,\n",
       "                                          predictor=None, random_state=40, ...)),\n",
       "                            ('SVR', SVR(kernel='linear'))])"
      ]
     },
     "execution_count": 81,
     "metadata": {},
     "output_type": "execute_result"
    }
   ],
   "source": [
    "linear_reg = LinearRegression()\n",
    "decision_tree_reg = DecisionTreeRegressor(criterion = \"squared_error\", random_state = 42)\n",
    "random_forest_reg = RandomForestRegressor(random_state = 42)\n",
    "kneighbour_reg = KNeighborsRegressor(n_neighbors=2)\n",
    "adaboost_reg = AdaBoostRegressor(random_state=42)\n",
    "gbr_reg = GradientBoostingRegressor(random_state=42)\n",
    "xgb_reg = XGBRegressor(random_state=40)\n",
    "svr = svm.SVR(kernel = 'linear')\n",
    "from sklearn.ensemble import VotingRegressor\n",
    "voting_reg = VotingRegressor(estimators=[('LR', linear_reg), ('DTR',decision_tree_reg),('RFR',random_forest_reg),('KNR',kneighbour_reg),('ABR',adaboost_reg),('GBR',gbr_reg ),('XGBR',xgb_reg),('SVR',svr)])\n",
    "\n",
    "voting_reg.fit(X_train, y_train)"
   ]
  },
  {
   "cell_type": "code",
   "execution_count": 82,
   "id": "1f5abbdc-e4c2-41a4-bc2a-cefa9f9a4365",
   "metadata": {
    "colab": {
     "base_uri": "https://localhost:8080/"
    },
    "id": "1f5abbdc-e4c2-41a4-bc2a-cefa9f9a4365",
    "outputId": "00e82b72-5f3f-44e0-9e93-bd535f0a7c26"
   },
   "outputs": [],
   "source": [
    "for (name, prd) in ('LR', linear_reg),('DTR',decision_tree_reg),('RFR',random_forest_reg),('KNR',kneighbour_reg),('ABR',adaboost_reg),('GBR',gbr_reg ),('XGBR',xgb_reg),('SVR',svr):\n",
    "    prd.fit(X_train, y_train)"
   ]
  },
  {
   "cell_type": "code",
   "execution_count": 83,
   "id": "9404351b-79bf-4dde-b041-b2c81795f0c9",
   "metadata": {
    "colab": {
     "base_uri": "https://localhost:8080/"
    },
    "id": "9404351b-79bf-4dde-b041-b2c81795f0c9",
    "outputId": "dec63533-dc4d-46e1-c621-3df2346df4b7"
   },
   "outputs": [
    {
     "name": "stdout",
     "output_type": "stream",
     "text": [
      "LinearRegression 0.8142317830521051\n",
      "DecisionTreeRegressor 0.9610060146512946\n",
      "RandomForestRegressor 0.9791257040026629\n",
      "KNeighborsRegressor 0.9469954616991675\n",
      "AdaBoostRegressor 0.7991707001968926\n",
      "GradientBoostingRegressor 0.9704514918425068\n",
      "XGBRegressor 0.9794343181928468\n",
      "SVR 0.708685527249685\n",
      "VotingRegressor 0.9569809632479048\n"
     ]
    }
   ],
   "source": [
    "for reg in (linear_reg, decision_tree_reg,random_forest_reg,kneighbour_reg,adaboost_reg,gbr_reg,xgb_reg ,svr,voting_reg):\n",
    "    reg.fit(X_train, y_train)\n",
    "    y_pred = reg.predict(X_test)\n",
    "    print(reg.__class__.__name__, metrics.r2_score(y_test,y_pred))"
   ]
  },
  {
   "cell_type": "markdown",
   "id": "8cad2db1-dbce-48ec-a566-9586229a303f",
   "metadata": {
    "id": "8cad2db1-dbce-48ec-a566-9586229a303f"
   },
   "source": [
    "# predicting values from model using same dataset"
   ]
  },
  {
   "cell_type": "code",
   "execution_count": 84,
   "id": "e9202b0f-0208-4ddc-93aa-31456b8879c7",
   "metadata": {
    "id": "e9202b0f-0208-4ddc-93aa-31456b8879c7"
   },
   "outputs": [
    {
     "data": {
      "text/html": [
       "<div>\n",
       "<style scoped>\n",
       "    .dataframe tbody tr th:only-of-type {\n",
       "        vertical-align: middle;\n",
       "    }\n",
       "\n",
       "    .dataframe tbody tr th {\n",
       "        vertical-align: top;\n",
       "    }\n",
       "\n",
       "    .dataframe thead th {\n",
       "        text-align: right;\n",
       "    }\n",
       "</style>\n",
       "<table border=\"1\" class=\"dataframe\">\n",
       "  <thead>\n",
       "    <tr style=\"text-align: right;\">\n",
       "      <th></th>\n",
       "      <th>Actual value</th>\n",
       "      <th>Predicted value</th>\n",
       "    </tr>\n",
       "  </thead>\n",
       "  <tbody>\n",
       "    <tr>\n",
       "      <th>1388</th>\n",
       "      <td>559</td>\n",
       "      <td>587.629517</td>\n",
       "    </tr>\n",
       "    <tr>\n",
       "      <th>50052</th>\n",
       "      <td>2201</td>\n",
       "      <td>2400.331055</td>\n",
       "    </tr>\n",
       "    <tr>\n",
       "      <th>41645</th>\n",
       "      <td>1238</td>\n",
       "      <td>1217.870728</td>\n",
       "    </tr>\n",
       "    <tr>\n",
       "      <th>42377</th>\n",
       "      <td>1304</td>\n",
       "      <td>1347.902466</td>\n",
       "    </tr>\n",
       "    <tr>\n",
       "      <th>17244</th>\n",
       "      <td>6901</td>\n",
       "      <td>9527.949219</td>\n",
       "    </tr>\n",
       "    <tr>\n",
       "      <th>1608</th>\n",
       "      <td>3011</td>\n",
       "      <td>3778.285645</td>\n",
       "    </tr>\n",
       "    <tr>\n",
       "      <th>46398</th>\n",
       "      <td>1765</td>\n",
       "      <td>1832.608032</td>\n",
       "    </tr>\n",
       "    <tr>\n",
       "      <th>45493</th>\n",
       "      <td>1679</td>\n",
       "      <td>1824.547607</td>\n",
       "    </tr>\n",
       "    <tr>\n",
       "      <th>49385</th>\n",
       "      <td>2102</td>\n",
       "      <td>2253.062500</td>\n",
       "    </tr>\n",
       "    <tr>\n",
       "      <th>10460</th>\n",
       "      <td>4789</td>\n",
       "      <td>5876.118164</td>\n",
       "    </tr>\n",
       "  </tbody>\n",
       "</table>\n",
       "</div>"
      ],
      "text/plain": [
       "       Actual value  Predicted value\n",
       "1388            559       587.629517\n",
       "50052          2201      2400.331055\n",
       "41645          1238      1217.870728\n",
       "42377          1304      1347.902466\n",
       "17244          6901      9527.949219\n",
       "1608           3011      3778.285645\n",
       "46398          1765      1832.608032\n",
       "45493          1679      1824.547607\n",
       "49385          2102      2253.062500\n",
       "10460          4789      5876.118164"
      ]
     },
     "execution_count": 84,
     "metadata": {},
     "output_type": "execute_result"
    }
   ],
   "source": [
    "xgb_reg1 = pd.DataFrame({'Actual value': y_test, 'Predicted value': xgb_reg.predict(X_test)})\n",
    "xgb_reg1.head(10)"
   ]
  },
  {
   "cell_type": "code",
   "execution_count": 85,
   "id": "dc7bd3d4-2b4c-4f54-9f59-999efb88a700",
   "metadata": {
    "id": "dc7bd3d4-2b4c-4f54-9f59-999efb88a700"
   },
   "outputs": [
    {
     "name": "stdout",
     "output_type": "stream",
     "text": [
      "predictions for new Data : [16738.787]\n"
     ]
    }
   ],
   "source": [
    "import numpy as np\n",
    "l=[(0.24,60.2,56,3.96,4.07,2.43,3,2,1)]\n",
    "i=np.array(l)\n",
    "y_pred = xgb_reg.predict(i)\n",
    "print('predictions for new Data :',y_pred)"
   ]
  },
  {
   "cell_type": "markdown",
   "id": "a5597c34-728a-4982-b93f-4de1e88e2758",
   "metadata": {
    "id": "ed8e4c86-3331-441f-9de7-05b0d87cd152"
   },
   "source": [
    "# XGB Regressor shows good result with minimum errors"
   ]
  },
  {
   "cell_type": "code",
   "execution_count": null,
   "id": "54e54cce-df8b-4404-9aa8-f17ac33452e3",
   "metadata": {
    "id": "54e54cce-df8b-4404-9aa8-f17ac33452e3"
   },
   "outputs": [],
   "source": []
  }
 ],
 "metadata": {
  "colab": {
   "collapsed_sections": [
    "cbe19a95-ad0b-4522-8fb8-ea34bfbca368",
    "a775393e-5df2-4c78-9b10-e3d86f03b5cf",
    "d88bdfd0-acff-499f-b285-72c725449607",
    "3b444be7-897c-4912-970b-f392e5d180e8",
    "34172d78-9ce2-43b2-b0eb-f32aed691d72",
    "da661c4d-f94f-4007-8f64-9dfe4da485f1"
   ],
   "provenance": []
  },
  "kernelspec": {
   "display_name": "Python 3 (ipykernel)",
   "language": "python",
   "name": "python3"
  },
  "language_info": {
   "codemirror_mode": {
    "name": "ipython",
    "version": 3
   },
   "file_extension": ".py",
   "mimetype": "text/x-python",
   "name": "python",
   "nbconvert_exporter": "python",
   "pygments_lexer": "ipython3",
   "version": "3.9.12"
  }
 },
 "nbformat": 4,
 "nbformat_minor": 5
}
